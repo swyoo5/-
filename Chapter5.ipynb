{
 "cells": [
  {
   "cell_type": "code",
   "execution_count": 2,
   "id": "a6ff14c2",
   "metadata": {},
   "outputs": [],
   "source": [
    "import pandas as pd\n",
    "import numpy as np\n",
    "import seaborn as sns\n",
    "import matplotlib.pyplot as plt"
   ]
  },
  {
   "cell_type": "code",
   "execution_count": 3,
   "id": "57554d25",
   "metadata": {},
   "outputs": [
    {
     "data": {
      "text/plain": [
       "<AxesSubplot:title={'center':'한글'}>"
      ]
     },
     "execution_count": 3,
     "metadata": {},
     "output_type": "execute_result"
    },
    {
     "data": {
      "image/png": "[encoded data removed]",
      "text/plain": [
       "<Figure size 432x288 with 1 Axes>"
      ]
     },
     "metadata": {
      "image/png": {
       "height": 263,
       "width": 365
      },
      "needs_background": "light"
     },
     "output_type": "display_data"
    }
   ],
   "source": [
    "import koreanize_matplotlib\n",
    "%config InlineBackend.figure_format = \"retina\" # 글씨 선명하게 출력\n",
    "\n",
    "pd.Series([1, 3, 5, -7 ,9]).plot(title = \"한글\")"
   ]
  },
  {
   "cell_type": "markdown",
   "id": "fbf764b2",
   "metadata": {},
   "source": [
    "데이터 전처리"
   ]
  },
  {
   "cell_type": "code",
   "execution_count": 65,
   "id": "0d805d70",
   "metadata": {},
   "outputs": [
    {
     "data": {
      "text/plain": [
       "((45654, 3), (9131, 2))"
      ]
     },
     "execution_count": 65,
     "metadata": {},
     "output_type": "execute_result"
    }
   ],
   "source": [
    "train = pd.read_csv(\"E:/Kaggle/Data/klue/train_data.csv\")\n",
    "test = pd.read_csv(\"E:/Kaggle/Data/klue/test_data.csv\")\n",
    "train.shape, test.shape"
   ]
  },
  {
   "cell_type": "code",
   "execution_count": 66,
   "id": "7e8bfb23",
   "metadata": {},
   "outputs": [
    {
     "data": {
      "text/html": [
       "<div>\n",
       "<style scoped>\n",
       "    .dataframe tbody tr th:only-of-type {\n",
       "        vertical-align: middle;\n",
       "    }\n",
       "\n",
       "    .dataframe tbody tr th {\n",
       "        vertical-align: top;\n",
       "    }\n",
       "\n",
       "    .dataframe thead th {\n",
       "        text-align: right;\n",
       "    }\n",
       "</style>\n",
       "<table border=\"1\" class=\"dataframe\">\n",
       "  <thead>\n",
       "    <tr style=\"text-align: right;\">\n",
       "      <th></th>\n",
       "      <th>index</th>\n",
       "      <th>title</th>\n",
       "      <th>topic_idx</th>\n",
       "    </tr>\n",
       "  </thead>\n",
       "  <tbody>\n",
       "    <tr>\n",
       "      <th>0</th>\n",
       "      <td>0</td>\n",
       "      <td>인천→핀란드 항공기 결항…휴가철 여행객 분통</td>\n",
       "      <td>4</td>\n",
       "    </tr>\n",
       "    <tr>\n",
       "      <th>1</th>\n",
       "      <td>1</td>\n",
       "      <td>실리콘밸리 넘어서겠다…구글 15조원 들여 美전역 거점화</td>\n",
       "      <td>4</td>\n",
       "    </tr>\n",
       "    <tr>\n",
       "      <th>2</th>\n",
       "      <td>2</td>\n",
       "      <td>이란 외무 긴장완화 해결책은 미국이 경제전쟁 멈추는 것</td>\n",
       "      <td>4</td>\n",
       "    </tr>\n",
       "    <tr>\n",
       "      <th>3</th>\n",
       "      <td>3</td>\n",
       "      <td>NYT 클린턴 측근韓기업 특수관계 조명…공과 사 맞물려종합</td>\n",
       "      <td>4</td>\n",
       "    </tr>\n",
       "    <tr>\n",
       "      <th>4</th>\n",
       "      <td>4</td>\n",
       "      <td>시진핑 트럼프에 중미 무역협상 조속 타결 희망</td>\n",
       "      <td>4</td>\n",
       "    </tr>\n",
       "    <tr>\n",
       "      <th>...</th>\n",
       "      <td>...</td>\n",
       "      <td>...</td>\n",
       "      <td>...</td>\n",
       "    </tr>\n",
       "    <tr>\n",
       "      <th>45649</th>\n",
       "      <td>45649</td>\n",
       "      <td>KB금융 미국 IB 스티펠과 제휴…선진국 시장 공략</td>\n",
       "      <td>1</td>\n",
       "    </tr>\n",
       "    <tr>\n",
       "      <th>45650</th>\n",
       "      <td>45650</td>\n",
       "      <td>1보 서울시교육청 신종코로나 확산에 개학 연기·휴업 검토</td>\n",
       "      <td>2</td>\n",
       "    </tr>\n",
       "    <tr>\n",
       "      <th>45651</th>\n",
       "      <td>45651</td>\n",
       "      <td>게시판 키움증권 2020 키움 영웅전 실전투자대회</td>\n",
       "      <td>1</td>\n",
       "    </tr>\n",
       "    <tr>\n",
       "      <th>45652</th>\n",
       "      <td>45652</td>\n",
       "      <td>답변하는 배기동 국립중앙박물관장</td>\n",
       "      <td>2</td>\n",
       "    </tr>\n",
       "    <tr>\n",
       "      <th>45653</th>\n",
       "      <td>45653</td>\n",
       "      <td>2020 한국인터넷기자상 시상식 내달 1일 개최…특별상 김성후</td>\n",
       "      <td>2</td>\n",
       "    </tr>\n",
       "  </tbody>\n",
       "</table>\n",
       "<p>45654 rows × 3 columns</p>\n",
       "</div>"
      ],
      "text/plain": [
       "       index                               title  topic_idx\n",
       "0          0            인천→핀란드 항공기 결항…휴가철 여행객 분통          4\n",
       "1          1      실리콘밸리 넘어서겠다…구글 15조원 들여 美전역 거점화          4\n",
       "2          2      이란 외무 긴장완화 해결책은 미국이 경제전쟁 멈추는 것          4\n",
       "3          3    NYT 클린턴 측근韓기업 특수관계 조명…공과 사 맞물려종합          4\n",
       "4          4           시진핑 트럼프에 중미 무역협상 조속 타결 희망          4\n",
       "...      ...                                 ...        ...\n",
       "45649  45649        KB금융 미국 IB 스티펠과 제휴…선진국 시장 공략          1\n",
       "45650  45650     1보 서울시교육청 신종코로나 확산에 개학 연기·휴업 검토          2\n",
       "45651  45651         게시판 키움증권 2020 키움 영웅전 실전투자대회          1\n",
       "45652  45652                   답변하는 배기동 국립중앙박물관장          2\n",
       "45653  45653  2020 한국인터넷기자상 시상식 내달 1일 개최…특별상 김성후          2\n",
       "\n",
       "[45654 rows x 3 columns]"
      ]
     },
     "execution_count": 66,
     "metadata": {},
     "output_type": "execute_result"
    }
   ],
   "source": [
    "train"
   ]
  },
  {
   "cell_type": "code",
   "execution_count": 68,
   "id": "1d509b1c",
   "metadata": {},
   "outputs": [
    {
     "data": {
      "text/html": [
       "<div>\n",
       "<style scoped>\n",
       "    .dataframe tbody tr th:only-of-type {\n",
       "        vertical-align: middle;\n",
       "    }\n",
       "\n",
       "    .dataframe tbody tr th {\n",
       "        vertical-align: top;\n",
       "    }\n",
       "\n",
       "    .dataframe thead th {\n",
       "        text-align: right;\n",
       "    }\n",
       "</style>\n",
       "<table border=\"1\" class=\"dataframe\">\n",
       "  <thead>\n",
       "    <tr style=\"text-align: right;\">\n",
       "      <th></th>\n",
       "      <th>index</th>\n",
       "      <th>title</th>\n",
       "    </tr>\n",
       "  </thead>\n",
       "  <tbody>\n",
       "    <tr>\n",
       "      <th>0</th>\n",
       "      <td>45654</td>\n",
       "      <td>유튜브 내달 2일까지 크리에이터 지원 공간 운영</td>\n",
       "    </tr>\n",
       "    <tr>\n",
       "      <th>1</th>\n",
       "      <td>45655</td>\n",
       "      <td>어버이날 맑다가 흐려져…남부지방 옅은 황사</td>\n",
       "    </tr>\n",
       "    <tr>\n",
       "      <th>2</th>\n",
       "      <td>45656</td>\n",
       "      <td>내년부터 국가RD 평가 때 논문건수는 반영 않는다</td>\n",
       "    </tr>\n",
       "    <tr>\n",
       "      <th>3</th>\n",
       "      <td>45657</td>\n",
       "      <td>김명자 신임 과총 회장 원로와 젊은 과학자 지혜 모을 것</td>\n",
       "    </tr>\n",
       "    <tr>\n",
       "      <th>4</th>\n",
       "      <td>45658</td>\n",
       "      <td>회색인간 작가 김동식 양심고백 등 새 소설집 2권 출간</td>\n",
       "    </tr>\n",
       "    <tr>\n",
       "      <th>...</th>\n",
       "      <td>...</td>\n",
       "      <td>...</td>\n",
       "    </tr>\n",
       "    <tr>\n",
       "      <th>9126</th>\n",
       "      <td>54780</td>\n",
       "      <td>인천 오후 3시35분 대설주의보…눈 3.1cm 쌓여</td>\n",
       "    </tr>\n",
       "    <tr>\n",
       "      <th>9127</th>\n",
       "      <td>54781</td>\n",
       "      <td>노래방에서 지인 성추행 외교부 사무관 불구속 입건종합</td>\n",
       "    </tr>\n",
       "    <tr>\n",
       "      <th>9128</th>\n",
       "      <td>54782</td>\n",
       "      <td>40년 전 부마항쟁 부산 시위 사진 2점 최초 공개</td>\n",
       "    </tr>\n",
       "    <tr>\n",
       "      <th>9129</th>\n",
       "      <td>54783</td>\n",
       "      <td>게시판 아리랑TV 아프리카개발은행 총회 개회식 생중계</td>\n",
       "    </tr>\n",
       "    <tr>\n",
       "      <th>9130</th>\n",
       "      <td>54784</td>\n",
       "      <td>유영민 과기장관 강소특구는 지역 혁신의 중심…지원책 강구</td>\n",
       "    </tr>\n",
       "  </tbody>\n",
       "</table>\n",
       "<p>9131 rows × 2 columns</p>\n",
       "</div>"
      ],
      "text/plain": [
       "      index                            title\n",
       "0     45654       유튜브 내달 2일까지 크리에이터 지원 공간 운영\n",
       "1     45655          어버이날 맑다가 흐려져…남부지방 옅은 황사\n",
       "2     45656      내년부터 국가RD 평가 때 논문건수는 반영 않는다\n",
       "3     45657  김명자 신임 과총 회장 원로와 젊은 과학자 지혜 모을 것\n",
       "4     45658   회색인간 작가 김동식 양심고백 등 새 소설집 2권 출간\n",
       "...     ...                              ...\n",
       "9126  54780     인천 오후 3시35분 대설주의보…눈 3.1cm 쌓여\n",
       "9127  54781    노래방에서 지인 성추행 외교부 사무관 불구속 입건종합\n",
       "9128  54782     40년 전 부마항쟁 부산 시위 사진 2점 최초 공개\n",
       "9129  54783    게시판 아리랑TV 아프리카개발은행 총회 개회식 생중계\n",
       "9130  54784  유영민 과기장관 강소특구는 지역 혁신의 중심…지원책 강구\n",
       "\n",
       "[9131 rows x 2 columns]"
      ]
     },
     "execution_count": 68,
     "metadata": {},
     "output_type": "execute_result"
    }
   ],
   "source": [
    "test"
   ]
  },
  {
   "cell_type": "code",
   "execution_count": 5,
   "id": "b940bd51",
   "metadata": {},
   "outputs": [],
   "source": [
    "topic = pd.read_csv(\"E:/Kaggle/Data/klue/topic_dict.csv\")"
   ]
  },
  {
   "cell_type": "code",
   "execution_count": 6,
   "id": "b0ccf1cb",
   "metadata": {},
   "outputs": [
    {
     "data": {
      "text/html": [
       "<div>\n",
       "<style scoped>\n",
       "    .dataframe tbody tr th:only-of-type {\n",
       "        vertical-align: middle;\n",
       "    }\n",
       "\n",
       "    .dataframe tbody tr th {\n",
       "        vertical-align: top;\n",
       "    }\n",
       "\n",
       "    .dataframe thead th {\n",
       "        text-align: right;\n",
       "    }\n",
       "</style>\n",
       "<table border=\"1\" class=\"dataframe\">\n",
       "  <thead>\n",
       "    <tr style=\"text-align: right;\">\n",
       "      <th></th>\n",
       "      <th>topic</th>\n",
       "      <th>topic_idx</th>\n",
       "    </tr>\n",
       "  </thead>\n",
       "  <tbody>\n",
       "    <tr>\n",
       "      <th>0</th>\n",
       "      <td>IT과학</td>\n",
       "      <td>0</td>\n",
       "    </tr>\n",
       "    <tr>\n",
       "      <th>1</th>\n",
       "      <td>경제</td>\n",
       "      <td>1</td>\n",
       "    </tr>\n",
       "    <tr>\n",
       "      <th>2</th>\n",
       "      <td>사회</td>\n",
       "      <td>2</td>\n",
       "    </tr>\n",
       "    <tr>\n",
       "      <th>3</th>\n",
       "      <td>생활문화</td>\n",
       "      <td>3</td>\n",
       "    </tr>\n",
       "    <tr>\n",
       "      <th>4</th>\n",
       "      <td>세계</td>\n",
       "      <td>4</td>\n",
       "    </tr>\n",
       "    <tr>\n",
       "      <th>5</th>\n",
       "      <td>스포츠</td>\n",
       "      <td>5</td>\n",
       "    </tr>\n",
       "    <tr>\n",
       "      <th>6</th>\n",
       "      <td>정치</td>\n",
       "      <td>6</td>\n",
       "    </tr>\n",
       "  </tbody>\n",
       "</table>\n",
       "</div>"
      ],
      "text/plain": [
       "  topic  topic_idx\n",
       "0  IT과학          0\n",
       "1    경제          1\n",
       "2    사회          2\n",
       "3  생활문화          3\n",
       "4    세계          4\n",
       "5   스포츠          5\n",
       "6    정치          6"
      ]
     },
     "execution_count": 6,
     "metadata": {},
     "output_type": "execute_result"
    }
   ],
   "source": [
    "topic"
   ]
  },
  {
   "cell_type": "code",
   "execution_count": 7,
   "id": "97b71624",
   "metadata": {},
   "outputs": [
    {
     "data": {
      "text/plain": [
       "array(['IT과학', '경제', '사회', '생활문화', '세계', '스포츠', '정치'], dtype=object)"
      ]
     },
     "execution_count": 7,
     "metadata": {},
     "output_type": "execute_result"
    }
   ],
   "source": [
    "topic[\"topic\"].values"
   ]
  },
  {
   "cell_type": "code",
   "execution_count": 8,
   "id": "c1641d45",
   "metadata": {},
   "outputs": [
    {
     "data": {
      "text/html": [
       "<div>\n",
       "<style scoped>\n",
       "    .dataframe tbody tr th:only-of-type {\n",
       "        vertical-align: middle;\n",
       "    }\n",
       "\n",
       "    .dataframe tbody tr th {\n",
       "        vertical-align: top;\n",
       "    }\n",
       "\n",
       "    .dataframe thead th {\n",
       "        text-align: right;\n",
       "    }\n",
       "</style>\n",
       "<table border=\"1\" class=\"dataframe\">\n",
       "  <thead>\n",
       "    <tr style=\"text-align: right;\">\n",
       "      <th></th>\n",
       "      <th>index</th>\n",
       "      <th>title</th>\n",
       "      <th>topic_idx</th>\n",
       "    </tr>\n",
       "  </thead>\n",
       "  <tbody>\n",
       "    <tr>\n",
       "      <th>0</th>\n",
       "      <td>0</td>\n",
       "      <td>인천→핀란드 항공기 결항…휴가철 여행객 분통</td>\n",
       "      <td>4</td>\n",
       "    </tr>\n",
       "    <tr>\n",
       "      <th>1</th>\n",
       "      <td>1</td>\n",
       "      <td>실리콘밸리 넘어서겠다…구글 15조원 들여 美전역 거점화</td>\n",
       "      <td>4</td>\n",
       "    </tr>\n",
       "    <tr>\n",
       "      <th>2</th>\n",
       "      <td>2</td>\n",
       "      <td>이란 외무 긴장완화 해결책은 미국이 경제전쟁 멈추는 것</td>\n",
       "      <td>4</td>\n",
       "    </tr>\n",
       "    <tr>\n",
       "      <th>3</th>\n",
       "      <td>3</td>\n",
       "      <td>NYT 클린턴 측근韓기업 특수관계 조명…공과 사 맞물려종합</td>\n",
       "      <td>4</td>\n",
       "    </tr>\n",
       "    <tr>\n",
       "      <th>4</th>\n",
       "      <td>4</td>\n",
       "      <td>시진핑 트럼프에 중미 무역협상 조속 타결 희망</td>\n",
       "      <td>4</td>\n",
       "    </tr>\n",
       "  </tbody>\n",
       "</table>\n",
       "</div>"
      ],
      "text/plain": [
       "   index                             title  topic_idx\n",
       "0      0          인천→핀란드 항공기 결항…휴가철 여행객 분통          4\n",
       "1      1    실리콘밸리 넘어서겠다…구글 15조원 들여 美전역 거점화          4\n",
       "2      2    이란 외무 긴장완화 해결책은 미국이 경제전쟁 멈추는 것          4\n",
       "3      3  NYT 클린턴 측근韓기업 특수관계 조명…공과 사 맞물려종합          4\n",
       "4      4         시진핑 트럼프에 중미 무역협상 조속 타결 희망          4"
      ]
     },
     "execution_count": 8,
     "metadata": {},
     "output_type": "execute_result"
    }
   ],
   "source": [
    "train.head()"
   ]
  },
  {
   "cell_type": "code",
   "execution_count": 9,
   "id": "733f6c4b",
   "metadata": {},
   "outputs": [
    {
     "data": {
      "text/html": [
       "<div>\n",
       "<style scoped>\n",
       "    .dataframe tbody tr th:only-of-type {\n",
       "        vertical-align: middle;\n",
       "    }\n",
       "\n",
       "    .dataframe tbody tr th {\n",
       "        vertical-align: top;\n",
       "    }\n",
       "\n",
       "    .dataframe thead th {\n",
       "        text-align: right;\n",
       "    }\n",
       "</style>\n",
       "<table border=\"1\" class=\"dataframe\">\n",
       "  <thead>\n",
       "    <tr style=\"text-align: right;\">\n",
       "      <th></th>\n",
       "      <th>index</th>\n",
       "      <th>title</th>\n",
       "    </tr>\n",
       "  </thead>\n",
       "  <tbody>\n",
       "    <tr>\n",
       "      <th>0</th>\n",
       "      <td>45654</td>\n",
       "      <td>유튜브 내달 2일까지 크리에이터 지원 공간 운영</td>\n",
       "    </tr>\n",
       "    <tr>\n",
       "      <th>1</th>\n",
       "      <td>45655</td>\n",
       "      <td>어버이날 맑다가 흐려져…남부지방 옅은 황사</td>\n",
       "    </tr>\n",
       "    <tr>\n",
       "      <th>2</th>\n",
       "      <td>45656</td>\n",
       "      <td>내년부터 국가RD 평가 때 논문건수는 반영 않는다</td>\n",
       "    </tr>\n",
       "    <tr>\n",
       "      <th>3</th>\n",
       "      <td>45657</td>\n",
       "      <td>김명자 신임 과총 회장 원로와 젊은 과학자 지혜 모을 것</td>\n",
       "    </tr>\n",
       "    <tr>\n",
       "      <th>4</th>\n",
       "      <td>45658</td>\n",
       "      <td>회색인간 작가 김동식 양심고백 등 새 소설집 2권 출간</td>\n",
       "    </tr>\n",
       "  </tbody>\n",
       "</table>\n",
       "</div>"
      ],
      "text/plain": [
       "   index                            title\n",
       "0  45654       유튜브 내달 2일까지 크리에이터 지원 공간 운영\n",
       "1  45655          어버이날 맑다가 흐려져…남부지방 옅은 황사\n",
       "2  45656      내년부터 국가RD 평가 때 논문건수는 반영 않는다\n",
       "3  45657  김명자 신임 과총 회장 원로와 젊은 과학자 지혜 모을 것\n",
       "4  45658   회색인간 작가 김동식 양심고백 등 새 소설집 2권 출간"
      ]
     },
     "execution_count": 9,
     "metadata": {},
     "output_type": "execute_result"
    }
   ],
   "source": [
    "test.head()"
   ]
  },
  {
   "cell_type": "code",
   "execution_count": 10,
   "id": "643b103b",
   "metadata": {},
   "outputs": [
    {
     "data": {
      "text/html": [
       "<div>\n",
       "<style scoped>\n",
       "    .dataframe tbody tr th:only-of-type {\n",
       "        vertical-align: middle;\n",
       "    }\n",
       "\n",
       "    .dataframe tbody tr th {\n",
       "        vertical-align: top;\n",
       "    }\n",
       "\n",
       "    .dataframe thead th {\n",
       "        text-align: right;\n",
       "    }\n",
       "</style>\n",
       "<table border=\"1\" class=\"dataframe\">\n",
       "  <thead>\n",
       "    <tr style=\"text-align: right;\">\n",
       "      <th></th>\n",
       "      <th>index</th>\n",
       "      <th>title</th>\n",
       "      <th>topic_idx</th>\n",
       "    </tr>\n",
       "  </thead>\n",
       "  <tbody>\n",
       "    <tr>\n",
       "      <th>0</th>\n",
       "      <td>0</td>\n",
       "      <td>인천→핀란드 항공기 결항…휴가철 여행객 분통</td>\n",
       "      <td>4.0</td>\n",
       "    </tr>\n",
       "    <tr>\n",
       "      <th>1</th>\n",
       "      <td>1</td>\n",
       "      <td>실리콘밸리 넘어서겠다…구글 15조원 들여 美전역 거점화</td>\n",
       "      <td>4.0</td>\n",
       "    </tr>\n",
       "    <tr>\n",
       "      <th>2</th>\n",
       "      <td>2</td>\n",
       "      <td>이란 외무 긴장완화 해결책은 미국이 경제전쟁 멈추는 것</td>\n",
       "      <td>4.0</td>\n",
       "    </tr>\n",
       "    <tr>\n",
       "      <th>3</th>\n",
       "      <td>3</td>\n",
       "      <td>NYT 클린턴 측근韓기업 특수관계 조명…공과 사 맞물려종합</td>\n",
       "      <td>4.0</td>\n",
       "    </tr>\n",
       "    <tr>\n",
       "      <th>4</th>\n",
       "      <td>4</td>\n",
       "      <td>시진핑 트럼프에 중미 무역협상 조속 타결 희망</td>\n",
       "      <td>4.0</td>\n",
       "    </tr>\n",
       "    <tr>\n",
       "      <th>...</th>\n",
       "      <td>...</td>\n",
       "      <td>...</td>\n",
       "      <td>...</td>\n",
       "    </tr>\n",
       "    <tr>\n",
       "      <th>9126</th>\n",
       "      <td>54780</td>\n",
       "      <td>인천 오후 3시35분 대설주의보…눈 3.1cm 쌓여</td>\n",
       "      <td>NaN</td>\n",
       "    </tr>\n",
       "    <tr>\n",
       "      <th>9127</th>\n",
       "      <td>54781</td>\n",
       "      <td>노래방에서 지인 성추행 외교부 사무관 불구속 입건종합</td>\n",
       "      <td>NaN</td>\n",
       "    </tr>\n",
       "    <tr>\n",
       "      <th>9128</th>\n",
       "      <td>54782</td>\n",
       "      <td>40년 전 부마항쟁 부산 시위 사진 2점 최초 공개</td>\n",
       "      <td>NaN</td>\n",
       "    </tr>\n",
       "    <tr>\n",
       "      <th>9129</th>\n",
       "      <td>54783</td>\n",
       "      <td>게시판 아리랑TV 아프리카개발은행 총회 개회식 생중계</td>\n",
       "      <td>NaN</td>\n",
       "    </tr>\n",
       "    <tr>\n",
       "      <th>9130</th>\n",
       "      <td>54784</td>\n",
       "      <td>유영민 과기장관 강소특구는 지역 혁신의 중심…지원책 강구</td>\n",
       "      <td>NaN</td>\n",
       "    </tr>\n",
       "  </tbody>\n",
       "</table>\n",
       "<p>54785 rows × 3 columns</p>\n",
       "</div>"
      ],
      "text/plain": [
       "      index                             title  topic_idx\n",
       "0         0          인천→핀란드 항공기 결항…휴가철 여행객 분통        4.0\n",
       "1         1    실리콘밸리 넘어서겠다…구글 15조원 들여 美전역 거점화        4.0\n",
       "2         2    이란 외무 긴장완화 해결책은 미국이 경제전쟁 멈추는 것        4.0\n",
       "3         3  NYT 클린턴 측근韓기업 특수관계 조명…공과 사 맞물려종합        4.0\n",
       "4         4         시진핑 트럼프에 중미 무역협상 조속 타결 희망        4.0\n",
       "...     ...                               ...        ...\n",
       "9126  54780      인천 오후 3시35분 대설주의보…눈 3.1cm 쌓여        NaN\n",
       "9127  54781     노래방에서 지인 성추행 외교부 사무관 불구속 입건종합        NaN\n",
       "9128  54782      40년 전 부마항쟁 부산 시위 사진 2점 최초 공개        NaN\n",
       "9129  54783     게시판 아리랑TV 아프리카개발은행 총회 개회식 생중계        NaN\n",
       "9130  54784   유영민 과기장관 강소특구는 지역 혁신의 중심…지원책 강구        NaN\n",
       "\n",
       "[54785 rows x 3 columns]"
      ]
     },
     "execution_count": 10,
     "metadata": {},
     "output_type": "execute_result"
    }
   ],
   "source": [
    "raw = pd.concat([train, test], axis = 0)\n",
    "raw"
   ]
  },
  {
   "cell_type": "code",
   "execution_count": 11,
   "id": "635386bd",
   "metadata": {},
   "outputs": [
    {
     "data": {
      "text/html": [
       "<div>\n",
       "<style scoped>\n",
       "    .dataframe tbody tr th:only-of-type {\n",
       "        vertical-align: middle;\n",
       "    }\n",
       "\n",
       "    .dataframe tbody tr th {\n",
       "        vertical-align: top;\n",
       "    }\n",
       "\n",
       "    .dataframe thead th {\n",
       "        text-align: right;\n",
       "    }\n",
       "</style>\n",
       "<table border=\"1\" class=\"dataframe\">\n",
       "  <thead>\n",
       "    <tr style=\"text-align: right;\">\n",
       "      <th></th>\n",
       "      <th>index</th>\n",
       "      <th>title</th>\n",
       "      <th>topic_idx</th>\n",
       "    </tr>\n",
       "  </thead>\n",
       "  <tbody>\n",
       "    <tr>\n",
       "      <th>0</th>\n",
       "      <td>0</td>\n",
       "      <td>인천→핀란드 항공기 결항…휴가철 여행객 분통</td>\n",
       "      <td>4.0</td>\n",
       "    </tr>\n",
       "    <tr>\n",
       "      <th>1</th>\n",
       "      <td>1</td>\n",
       "      <td>실리콘밸리 넘어서겠다…구글 15조원 들여 美전역 거점화</td>\n",
       "      <td>4.0</td>\n",
       "    </tr>\n",
       "    <tr>\n",
       "      <th>2</th>\n",
       "      <td>2</td>\n",
       "      <td>이란 외무 긴장완화 해결책은 미국이 경제전쟁 멈추는 것</td>\n",
       "      <td>4.0</td>\n",
       "    </tr>\n",
       "    <tr>\n",
       "      <th>3</th>\n",
       "      <td>3</td>\n",
       "      <td>NYT 클린턴 측근韓기업 특수관계 조명…공과 사 맞물려종합</td>\n",
       "      <td>4.0</td>\n",
       "    </tr>\n",
       "    <tr>\n",
       "      <th>4</th>\n",
       "      <td>4</td>\n",
       "      <td>시진핑 트럼프에 중미 무역협상 조속 타결 희망</td>\n",
       "      <td>4.0</td>\n",
       "    </tr>\n",
       "  </tbody>\n",
       "</table>\n",
       "</div>"
      ],
      "text/plain": [
       "   index                             title  topic_idx\n",
       "0      0          인천→핀란드 항공기 결항…휴가철 여행객 분통        4.0\n",
       "1      1    실리콘밸리 넘어서겠다…구글 15조원 들여 美전역 거점화        4.0\n",
       "2      2    이란 외무 긴장완화 해결책은 미국이 경제전쟁 멈추는 것        4.0\n",
       "3      3  NYT 클린턴 측근韓기업 특수관계 조명…공과 사 맞물려종합        4.0\n",
       "4      4         시진핑 트럼프에 중미 무역협상 조속 타결 희망        4.0"
      ]
     },
     "execution_count": 11,
     "metadata": {},
     "output_type": "execute_result"
    }
   ],
   "source": [
    "raw.head()"
   ]
  },
  {
   "cell_type": "code",
   "execution_count": 12,
   "id": "7b19ee48",
   "metadata": {},
   "outputs": [
    {
     "data": {
      "text/html": [
       "<div>\n",
       "<style scoped>\n",
       "    .dataframe tbody tr th:only-of-type {\n",
       "        vertical-align: middle;\n",
       "    }\n",
       "\n",
       "    .dataframe tbody tr th {\n",
       "        vertical-align: top;\n",
       "    }\n",
       "\n",
       "    .dataframe thead th {\n",
       "        text-align: right;\n",
       "    }\n",
       "</style>\n",
       "<table border=\"1\" class=\"dataframe\">\n",
       "  <thead>\n",
       "    <tr style=\"text-align: right;\">\n",
       "      <th></th>\n",
       "      <th>index</th>\n",
       "      <th>title</th>\n",
       "      <th>topic_idx</th>\n",
       "    </tr>\n",
       "  </thead>\n",
       "  <tbody>\n",
       "    <tr>\n",
       "      <th>9126</th>\n",
       "      <td>54780</td>\n",
       "      <td>인천 오후 3시35분 대설주의보…눈 3.1cm 쌓여</td>\n",
       "      <td>NaN</td>\n",
       "    </tr>\n",
       "    <tr>\n",
       "      <th>9127</th>\n",
       "      <td>54781</td>\n",
       "      <td>노래방에서 지인 성추행 외교부 사무관 불구속 입건종합</td>\n",
       "      <td>NaN</td>\n",
       "    </tr>\n",
       "    <tr>\n",
       "      <th>9128</th>\n",
       "      <td>54782</td>\n",
       "      <td>40년 전 부마항쟁 부산 시위 사진 2점 최초 공개</td>\n",
       "      <td>NaN</td>\n",
       "    </tr>\n",
       "    <tr>\n",
       "      <th>9129</th>\n",
       "      <td>54783</td>\n",
       "      <td>게시판 아리랑TV 아프리카개발은행 총회 개회식 생중계</td>\n",
       "      <td>NaN</td>\n",
       "    </tr>\n",
       "    <tr>\n",
       "      <th>9130</th>\n",
       "      <td>54784</td>\n",
       "      <td>유영민 과기장관 강소특구는 지역 혁신의 중심…지원책 강구</td>\n",
       "      <td>NaN</td>\n",
       "    </tr>\n",
       "  </tbody>\n",
       "</table>\n",
       "</div>"
      ],
      "text/plain": [
       "      index                            title  topic_idx\n",
       "9126  54780     인천 오후 3시35분 대설주의보…눈 3.1cm 쌓여        NaN\n",
       "9127  54781    노래방에서 지인 성추행 외교부 사무관 불구속 입건종합        NaN\n",
       "9128  54782     40년 전 부마항쟁 부산 시위 사진 2점 최초 공개        NaN\n",
       "9129  54783    게시판 아리랑TV 아프리카개발은행 총회 개회식 생중계        NaN\n",
       "9130  54784  유영민 과기장관 강소특구는 지역 혁신의 중심…지원책 강구        NaN"
      ]
     },
     "execution_count": 12,
     "metadata": {},
     "output_type": "execute_result"
    }
   ],
   "source": [
    "raw.tail()"
   ]
  },
  {
   "cell_type": "code",
   "execution_count": 13,
   "id": "001c515e",
   "metadata": {},
   "outputs": [
    {
     "data": {
      "text/html": [
       "<div>\n",
       "<style scoped>\n",
       "    .dataframe tbody tr th:only-of-type {\n",
       "        vertical-align: middle;\n",
       "    }\n",
       "\n",
       "    .dataframe tbody tr th {\n",
       "        vertical-align: top;\n",
       "    }\n",
       "\n",
       "    .dataframe thead th {\n",
       "        text-align: right;\n",
       "    }\n",
       "</style>\n",
       "<table border=\"1\" class=\"dataframe\">\n",
       "  <thead>\n",
       "    <tr style=\"text-align: right;\">\n",
       "      <th></th>\n",
       "      <th>index</th>\n",
       "      <th>title</th>\n",
       "      <th>topic_idx</th>\n",
       "      <th>topic</th>\n",
       "    </tr>\n",
       "  </thead>\n",
       "  <tbody>\n",
       "    <tr>\n",
       "      <th>0</th>\n",
       "      <td>0</td>\n",
       "      <td>인천→핀란드 항공기 결항…휴가철 여행객 분통</td>\n",
       "      <td>4.0</td>\n",
       "      <td>세계</td>\n",
       "    </tr>\n",
       "    <tr>\n",
       "      <th>1</th>\n",
       "      <td>1</td>\n",
       "      <td>실리콘밸리 넘어서겠다…구글 15조원 들여 美전역 거점화</td>\n",
       "      <td>4.0</td>\n",
       "      <td>세계</td>\n",
       "    </tr>\n",
       "    <tr>\n",
       "      <th>2</th>\n",
       "      <td>2</td>\n",
       "      <td>이란 외무 긴장완화 해결책은 미국이 경제전쟁 멈추는 것</td>\n",
       "      <td>4.0</td>\n",
       "      <td>세계</td>\n",
       "    </tr>\n",
       "    <tr>\n",
       "      <th>3</th>\n",
       "      <td>3</td>\n",
       "      <td>NYT 클린턴 측근韓기업 특수관계 조명…공과 사 맞물려종합</td>\n",
       "      <td>4.0</td>\n",
       "      <td>세계</td>\n",
       "    </tr>\n",
       "    <tr>\n",
       "      <th>4</th>\n",
       "      <td>4</td>\n",
       "      <td>시진핑 트럼프에 중미 무역협상 조속 타결 희망</td>\n",
       "      <td>4.0</td>\n",
       "      <td>세계</td>\n",
       "    </tr>\n",
       "    <tr>\n",
       "      <th>...</th>\n",
       "      <td>...</td>\n",
       "      <td>...</td>\n",
       "      <td>...</td>\n",
       "      <td>...</td>\n",
       "    </tr>\n",
       "    <tr>\n",
       "      <th>54780</th>\n",
       "      <td>54780</td>\n",
       "      <td>인천 오후 3시35분 대설주의보…눈 3.1cm 쌓여</td>\n",
       "      <td>NaN</td>\n",
       "      <td>NaN</td>\n",
       "    </tr>\n",
       "    <tr>\n",
       "      <th>54781</th>\n",
       "      <td>54781</td>\n",
       "      <td>노래방에서 지인 성추행 외교부 사무관 불구속 입건종합</td>\n",
       "      <td>NaN</td>\n",
       "      <td>NaN</td>\n",
       "    </tr>\n",
       "    <tr>\n",
       "      <th>54782</th>\n",
       "      <td>54782</td>\n",
       "      <td>40년 전 부마항쟁 부산 시위 사진 2점 최초 공개</td>\n",
       "      <td>NaN</td>\n",
       "      <td>NaN</td>\n",
       "    </tr>\n",
       "    <tr>\n",
       "      <th>54783</th>\n",
       "      <td>54783</td>\n",
       "      <td>게시판 아리랑TV 아프리카개발은행 총회 개회식 생중계</td>\n",
       "      <td>NaN</td>\n",
       "      <td>NaN</td>\n",
       "    </tr>\n",
       "    <tr>\n",
       "      <th>54784</th>\n",
       "      <td>54784</td>\n",
       "      <td>유영민 과기장관 강소특구는 지역 혁신의 중심…지원책 강구</td>\n",
       "      <td>NaN</td>\n",
       "      <td>NaN</td>\n",
       "    </tr>\n",
       "  </tbody>\n",
       "</table>\n",
       "<p>54785 rows × 4 columns</p>\n",
       "</div>"
      ],
      "text/plain": [
       "       index                             title  topic_idx topic\n",
       "0          0          인천→핀란드 항공기 결항…휴가철 여행객 분통        4.0    세계\n",
       "1          1    실리콘밸리 넘어서겠다…구글 15조원 들여 美전역 거점화        4.0    세계\n",
       "2          2    이란 외무 긴장완화 해결책은 미국이 경제전쟁 멈추는 것        4.0    세계\n",
       "3          3  NYT 클린턴 측근韓기업 특수관계 조명…공과 사 맞물려종합        4.0    세계\n",
       "4          4         시진핑 트럼프에 중미 무역협상 조속 타결 희망        4.0    세계\n",
       "...      ...                               ...        ...   ...\n",
       "54780  54780      인천 오후 3시35분 대설주의보…눈 3.1cm 쌓여        NaN   NaN\n",
       "54781  54781     노래방에서 지인 성추행 외교부 사무관 불구속 입건종합        NaN   NaN\n",
       "54782  54782      40년 전 부마항쟁 부산 시위 사진 2점 최초 공개        NaN   NaN\n",
       "54783  54783     게시판 아리랑TV 아프리카개발은행 총회 개회식 생중계        NaN   NaN\n",
       "54784  54784   유영민 과기장관 강소특구는 지역 혁신의 중심…지원책 강구        NaN   NaN\n",
       "\n",
       "[54785 rows x 4 columns]"
      ]
     },
     "execution_count": 13,
     "metadata": {},
     "output_type": "execute_result"
    }
   ],
   "source": [
    "df = raw.merge(topic, how = \"left\")\n",
    "df"
   ]
  },
  {
   "cell_type": "code",
   "execution_count": 14,
   "id": "31b74865",
   "metadata": {},
   "outputs": [
    {
     "data": {
      "text/html": [
       "<div>\n",
       "<style scoped>\n",
       "    .dataframe tbody tr th:only-of-type {\n",
       "        vertical-align: middle;\n",
       "    }\n",
       "\n",
       "    .dataframe tbody tr th {\n",
       "        vertical-align: top;\n",
       "    }\n",
       "\n",
       "    .dataframe thead th {\n",
       "        text-align: right;\n",
       "    }\n",
       "</style>\n",
       "<table border=\"1\" class=\"dataframe\">\n",
       "  <thead>\n",
       "    <tr style=\"text-align: right;\">\n",
       "      <th></th>\n",
       "      <th>index</th>\n",
       "      <th>title</th>\n",
       "      <th>topic_idx</th>\n",
       "      <th>topic</th>\n",
       "    </tr>\n",
       "  </thead>\n",
       "  <tbody>\n",
       "    <tr>\n",
       "      <th>0</th>\n",
       "      <td>0</td>\n",
       "      <td>인천→핀란드 항공기 결항…휴가철 여행객 분통</td>\n",
       "      <td>4.0</td>\n",
       "      <td>세계</td>\n",
       "    </tr>\n",
       "    <tr>\n",
       "      <th>1</th>\n",
       "      <td>1</td>\n",
       "      <td>실리콘밸리 넘어서겠다…구글 15조원 들여 美전역 거점화</td>\n",
       "      <td>4.0</td>\n",
       "      <td>세계</td>\n",
       "    </tr>\n",
       "    <tr>\n",
       "      <th>2</th>\n",
       "      <td>2</td>\n",
       "      <td>이란 외무 긴장완화 해결책은 미국이 경제전쟁 멈추는 것</td>\n",
       "      <td>4.0</td>\n",
       "      <td>세계</td>\n",
       "    </tr>\n",
       "    <tr>\n",
       "      <th>3</th>\n",
       "      <td>3</td>\n",
       "      <td>NYT 클린턴 측근韓기업 특수관계 조명…공과 사 맞물려종합</td>\n",
       "      <td>4.0</td>\n",
       "      <td>세계</td>\n",
       "    </tr>\n",
       "    <tr>\n",
       "      <th>4</th>\n",
       "      <td>4</td>\n",
       "      <td>시진핑 트럼프에 중미 무역협상 조속 타결 희망</td>\n",
       "      <td>4.0</td>\n",
       "      <td>세계</td>\n",
       "    </tr>\n",
       "  </tbody>\n",
       "</table>\n",
       "</div>"
      ],
      "text/plain": [
       "   index                             title  topic_idx topic\n",
       "0      0          인천→핀란드 항공기 결항…휴가철 여행객 분통        4.0    세계\n",
       "1      1    실리콘밸리 넘어서겠다…구글 15조원 들여 美전역 거점화        4.0    세계\n",
       "2      2    이란 외무 긴장완화 해결책은 미국이 경제전쟁 멈추는 것        4.0    세계\n",
       "3      3  NYT 클린턴 측근韓기업 특수관계 조명…공과 사 맞물려종합        4.0    세계\n",
       "4      4         시진핑 트럼프에 중미 무역협상 조속 타결 희망        4.0    세계"
      ]
     },
     "execution_count": 14,
     "metadata": {},
     "output_type": "execute_result"
    }
   ],
   "source": [
    "df.head()"
   ]
  },
  {
   "cell_type": "code",
   "execution_count": 15,
   "id": "a029ffc0",
   "metadata": {},
   "outputs": [
    {
     "data": {
      "text/plain": [
       "4.0    7629\n",
       "2.0    7362\n",
       "5.0    6933\n",
       "6.0    6751\n",
       "1.0    6222\n",
       "3.0    5933\n",
       "0.0    4824\n",
       "Name: topic_idx, dtype: int64"
      ]
     },
     "execution_count": 15,
     "metadata": {},
     "output_type": "execute_result"
    }
   ],
   "source": [
    "df[\"topic_idx\"].value_counts()"
   ]
  },
  {
   "cell_type": "code",
   "execution_count": 16,
   "id": "e0cfa727",
   "metadata": {},
   "outputs": [
    {
     "data": {
      "text/plain": [
       "<AxesSubplot:xlabel='topic', ylabel='count'>"
      ]
     },
     "execution_count": 16,
     "metadata": {},
     "output_type": "execute_result"
    },
    {
     "data": {
      "image/png": "[encoded data removed]",
      "text/plain": [
       "<Figure size 432x288 with 1 Axes>"
      ]
     },
     "metadata": {
      "image/png": {
       "height": 265,
       "width": 393
      },
      "needs_background": "light"
     },
     "output_type": "display_data"
    }
   ],
   "source": [
    "sns.countplot(data = df, x = \"topic\")"
   ]
  },
  {
   "cell_type": "code",
   "execution_count": 17,
   "id": "c5a55d22",
   "metadata": {},
   "outputs": [
    {
     "data": {
      "text/html": [
       "<div>\n",
       "<style scoped>\n",
       "    .dataframe tbody tr th:only-of-type {\n",
       "        vertical-align: middle;\n",
       "    }\n",
       "\n",
       "    .dataframe tbody tr th {\n",
       "        vertical-align: top;\n",
       "    }\n",
       "\n",
       "    .dataframe thead th {\n",
       "        text-align: right;\n",
       "    }\n",
       "</style>\n",
       "<table border=\"1\" class=\"dataframe\">\n",
       "  <thead>\n",
       "    <tr style=\"text-align: right;\">\n",
       "      <th></th>\n",
       "      <th>index</th>\n",
       "      <th>title</th>\n",
       "      <th>topic_idx</th>\n",
       "      <th>topic</th>\n",
       "    </tr>\n",
       "  </thead>\n",
       "  <tbody>\n",
       "    <tr>\n",
       "      <th>0</th>\n",
       "      <td>0</td>\n",
       "      <td>인천→핀란드 항공기 결항…휴가철 여행객 분통</td>\n",
       "      <td>4.0</td>\n",
       "      <td>세계</td>\n",
       "    </tr>\n",
       "    <tr>\n",
       "      <th>1</th>\n",
       "      <td>1</td>\n",
       "      <td>실리콘밸리 넘어서겠다…구글 15조원 들여 美전역 거점화</td>\n",
       "      <td>4.0</td>\n",
       "      <td>세계</td>\n",
       "    </tr>\n",
       "    <tr>\n",
       "      <th>2</th>\n",
       "      <td>2</td>\n",
       "      <td>이란 외무 긴장완화 해결책은 미국이 경제전쟁 멈추는 것</td>\n",
       "      <td>4.0</td>\n",
       "      <td>세계</td>\n",
       "    </tr>\n",
       "    <tr>\n",
       "      <th>3</th>\n",
       "      <td>3</td>\n",
       "      <td>NYT 클린턴 측근韓기업 특수관계 조명…공과 사 맞물려종합</td>\n",
       "      <td>4.0</td>\n",
       "      <td>세계</td>\n",
       "    </tr>\n",
       "    <tr>\n",
       "      <th>4</th>\n",
       "      <td>4</td>\n",
       "      <td>시진핑 트럼프에 중미 무역협상 조속 타결 희망</td>\n",
       "      <td>4.0</td>\n",
       "      <td>세계</td>\n",
       "    </tr>\n",
       "    <tr>\n",
       "      <th>...</th>\n",
       "      <td>...</td>\n",
       "      <td>...</td>\n",
       "      <td>...</td>\n",
       "      <td>...</td>\n",
       "    </tr>\n",
       "    <tr>\n",
       "      <th>54780</th>\n",
       "      <td>54780</td>\n",
       "      <td>인천 오후 3시35분 대설주의보…눈 3.1cm 쌓여</td>\n",
       "      <td>NaN</td>\n",
       "      <td>NaN</td>\n",
       "    </tr>\n",
       "    <tr>\n",
       "      <th>54781</th>\n",
       "      <td>54781</td>\n",
       "      <td>노래방에서 지인 성추행 외교부 사무관 불구속 입건종합</td>\n",
       "      <td>NaN</td>\n",
       "      <td>NaN</td>\n",
       "    </tr>\n",
       "    <tr>\n",
       "      <th>54782</th>\n",
       "      <td>54782</td>\n",
       "      <td>40년 전 부마항쟁 부산 시위 사진 2점 최초 공개</td>\n",
       "      <td>NaN</td>\n",
       "      <td>NaN</td>\n",
       "    </tr>\n",
       "    <tr>\n",
       "      <th>54783</th>\n",
       "      <td>54783</td>\n",
       "      <td>게시판 아리랑TV 아프리카개발은행 총회 개회식 생중계</td>\n",
       "      <td>NaN</td>\n",
       "      <td>NaN</td>\n",
       "    </tr>\n",
       "    <tr>\n",
       "      <th>54784</th>\n",
       "      <td>54784</td>\n",
       "      <td>유영민 과기장관 강소특구는 지역 혁신의 중심…지원책 강구</td>\n",
       "      <td>NaN</td>\n",
       "      <td>NaN</td>\n",
       "    </tr>\n",
       "  </tbody>\n",
       "</table>\n",
       "<p>54785 rows × 4 columns</p>\n",
       "</div>"
      ],
      "text/plain": [
       "       index                             title  topic_idx topic\n",
       "0          0          인천→핀란드 항공기 결항…휴가철 여행객 분통        4.0    세계\n",
       "1          1    실리콘밸리 넘어서겠다…구글 15조원 들여 美전역 거점화        4.0    세계\n",
       "2          2    이란 외무 긴장완화 해결책은 미국이 경제전쟁 멈추는 것        4.0    세계\n",
       "3          3  NYT 클린턴 측근韓기업 특수관계 조명…공과 사 맞물려종합        4.0    세계\n",
       "4          4         시진핑 트럼프에 중미 무역협상 조속 타결 희망        4.0    세계\n",
       "...      ...                               ...        ...   ...\n",
       "54780  54780      인천 오후 3시35분 대설주의보…눈 3.1cm 쌓여        NaN   NaN\n",
       "54781  54781     노래방에서 지인 성추행 외교부 사무관 불구속 입건종합        NaN   NaN\n",
       "54782  54782      40년 전 부마항쟁 부산 시위 사진 2점 최초 공개        NaN   NaN\n",
       "54783  54783     게시판 아리랑TV 아프리카개발은행 총회 개회식 생중계        NaN   NaN\n",
       "54784  54784   유영민 과기장관 강소특구는 지역 혁신의 중심…지원책 강구        NaN   NaN\n",
       "\n",
       "[54785 rows x 4 columns]"
      ]
     },
     "execution_count": 17,
     "metadata": {},
     "output_type": "execute_result"
    }
   ],
   "source": [
    "df"
   ]
  },
  {
   "cell_type": "code",
   "execution_count": 18,
   "id": "9d1cc31a",
   "metadata": {},
   "outputs": [],
   "source": [
    "df[\"len\"] = df[\"title\"].apply(lambda x : len(x))\n",
    "df[\"word_count\"] = df[\"title\"].apply(lambda x : len(x.split()))\n",
    "df[\"unique_word_count\"] = df[\"title\"].apply(lambda x : len(set(x.split())))"
   ]
  },
  {
   "cell_type": "code",
   "execution_count": 19,
   "id": "42247d0f",
   "metadata": {},
   "outputs": [
    {
     "data": {
      "text/html": [
       "<div>\n",
       "<style scoped>\n",
       "    .dataframe tbody tr th:only-of-type {\n",
       "        vertical-align: middle;\n",
       "    }\n",
       "\n",
       "    .dataframe tbody tr th {\n",
       "        vertical-align: top;\n",
       "    }\n",
       "\n",
       "    .dataframe thead th {\n",
       "        text-align: right;\n",
       "    }\n",
       "</style>\n",
       "<table border=\"1\" class=\"dataframe\">\n",
       "  <thead>\n",
       "    <tr style=\"text-align: right;\">\n",
       "      <th></th>\n",
       "      <th>index</th>\n",
       "      <th>title</th>\n",
       "      <th>topic_idx</th>\n",
       "      <th>topic</th>\n",
       "      <th>len</th>\n",
       "      <th>word_count</th>\n",
       "      <th>unique_word_count</th>\n",
       "    </tr>\n",
       "  </thead>\n",
       "  <tbody>\n",
       "    <tr>\n",
       "      <th>0</th>\n",
       "      <td>0</td>\n",
       "      <td>인천→핀란드 항공기 결항…휴가철 여행객 분통</td>\n",
       "      <td>4.0</td>\n",
       "      <td>세계</td>\n",
       "      <td>24</td>\n",
       "      <td>5</td>\n",
       "      <td>5</td>\n",
       "    </tr>\n",
       "    <tr>\n",
       "      <th>1</th>\n",
       "      <td>1</td>\n",
       "      <td>실리콘밸리 넘어서겠다…구글 15조원 들여 美전역 거점화</td>\n",
       "      <td>4.0</td>\n",
       "      <td>세계</td>\n",
       "      <td>30</td>\n",
       "      <td>6</td>\n",
       "      <td>6</td>\n",
       "    </tr>\n",
       "    <tr>\n",
       "      <th>2</th>\n",
       "      <td>2</td>\n",
       "      <td>이란 외무 긴장완화 해결책은 미국이 경제전쟁 멈추는 것</td>\n",
       "      <td>4.0</td>\n",
       "      <td>세계</td>\n",
       "      <td>30</td>\n",
       "      <td>8</td>\n",
       "      <td>8</td>\n",
       "    </tr>\n",
       "    <tr>\n",
       "      <th>3</th>\n",
       "      <td>3</td>\n",
       "      <td>NYT 클린턴 측근韓기업 특수관계 조명…공과 사 맞물려종합</td>\n",
       "      <td>4.0</td>\n",
       "      <td>세계</td>\n",
       "      <td>32</td>\n",
       "      <td>7</td>\n",
       "      <td>7</td>\n",
       "    </tr>\n",
       "    <tr>\n",
       "      <th>4</th>\n",
       "      <td>4</td>\n",
       "      <td>시진핑 트럼프에 중미 무역협상 조속 타결 희망</td>\n",
       "      <td>4.0</td>\n",
       "      <td>세계</td>\n",
       "      <td>25</td>\n",
       "      <td>7</td>\n",
       "      <td>7</td>\n",
       "    </tr>\n",
       "  </tbody>\n",
       "</table>\n",
       "</div>"
      ],
      "text/plain": [
       "   index                             title  topic_idx topic  len  word_count  \\\n",
       "0      0          인천→핀란드 항공기 결항…휴가철 여행객 분통        4.0    세계   24           5   \n",
       "1      1    실리콘밸리 넘어서겠다…구글 15조원 들여 美전역 거점화        4.0    세계   30           6   \n",
       "2      2    이란 외무 긴장완화 해결책은 미국이 경제전쟁 멈추는 것        4.0    세계   30           8   \n",
       "3      3  NYT 클린턴 측근韓기업 특수관계 조명…공과 사 맞물려종합        4.0    세계   32           7   \n",
       "4      4         시진핑 트럼프에 중미 무역협상 조속 타결 희망        4.0    세계   25           7   \n",
       "\n",
       "   unique_word_count  \n",
       "0                  5  \n",
       "1                  6  \n",
       "2                  8  \n",
       "3                  7  \n",
       "4                  7  "
      ]
     },
     "execution_count": 19,
     "metadata": {},
     "output_type": "execute_result"
    }
   ],
   "source": [
    "df.head()"
   ]
  },
  {
   "cell_type": "code",
   "execution_count": 20,
   "id": "0ecf376b",
   "metadata": {},
   "outputs": [
    {
     "data": {
      "text/plain": [
       "<AxesSubplot:xlabel='unique_word_count', ylabel='Count'>"
      ]
     },
     "execution_count": 20,
     "metadata": {},
     "output_type": "execute_result"
    },
    {
     "data": {
      "image/png": "[encoded data removed]",
      "text/plain": [
       "<Figure size 1080x144 with 3 Axes>"
      ]
     },
     "metadata": {
      "image/png": {
       "height": 153,
       "width": 896
      },
      "needs_background": "light"
     },
     "output_type": "display_data"
    }
   ],
   "source": [
    "fig, axes = plt.subplots(1, 3, figsize = (15, 2))\n",
    "sns.histplot(df[\"len\"], ax = axes[0])\n",
    "sns.histplot(df[\"word_count\"], ax = axes[1])\n",
    "sns.histplot(df[\"unique_word_count\"], ax = axes[2])"
   ]
  },
  {
   "cell_type": "code",
   "execution_count": 21,
   "id": "e4f15142",
   "metadata": {},
   "outputs": [
    {
     "data": {
      "text/html": [
       "<div>\n",
       "<style scoped>\n",
       "    .dataframe tbody tr th:only-of-type {\n",
       "        vertical-align: middle;\n",
       "    }\n",
       "\n",
       "    .dataframe tbody tr th {\n",
       "        vertical-align: top;\n",
       "    }\n",
       "\n",
       "    .dataframe thead th {\n",
       "        text-align: right;\n",
       "    }\n",
       "</style>\n",
       "<table border=\"1\" class=\"dataframe\">\n",
       "  <thead>\n",
       "    <tr style=\"text-align: right;\">\n",
       "      <th></th>\n",
       "      <th>len</th>\n",
       "      <th>word_count</th>\n",
       "      <th>unique_word_count</th>\n",
       "    </tr>\n",
       "  </thead>\n",
       "  <tbody>\n",
       "    <tr>\n",
       "      <th>count</th>\n",
       "      <td>54785.000000</td>\n",
       "      <td>54785.000000</td>\n",
       "      <td>54785.000000</td>\n",
       "    </tr>\n",
       "    <tr>\n",
       "      <th>mean</th>\n",
       "      <td>27.318846</td>\n",
       "      <td>6.587880</td>\n",
       "      <td>6.576198</td>\n",
       "    </tr>\n",
       "    <tr>\n",
       "      <th>std</th>\n",
       "      <td>4.947738</td>\n",
       "      <td>1.471852</td>\n",
       "      <td>1.465320</td>\n",
       "    </tr>\n",
       "    <tr>\n",
       "      <th>min</th>\n",
       "      <td>4.000000</td>\n",
       "      <td>1.000000</td>\n",
       "      <td>1.000000</td>\n",
       "    </tr>\n",
       "    <tr>\n",
       "      <th>25%</th>\n",
       "      <td>25.000000</td>\n",
       "      <td>6.000000</td>\n",
       "      <td>6.000000</td>\n",
       "    </tr>\n",
       "    <tr>\n",
       "      <th>50%</th>\n",
       "      <td>28.000000</td>\n",
       "      <td>7.000000</td>\n",
       "      <td>7.000000</td>\n",
       "    </tr>\n",
       "    <tr>\n",
       "      <th>75%</th>\n",
       "      <td>31.000000</td>\n",
       "      <td>8.000000</td>\n",
       "      <td>8.000000</td>\n",
       "    </tr>\n",
       "    <tr>\n",
       "      <th>max</th>\n",
       "      <td>44.000000</td>\n",
       "      <td>13.000000</td>\n",
       "      <td>13.000000</td>\n",
       "    </tr>\n",
       "  </tbody>\n",
       "</table>\n",
       "</div>"
      ],
      "text/plain": [
       "                len    word_count  unique_word_count\n",
       "count  54785.000000  54785.000000       54785.000000\n",
       "mean      27.318846      6.587880           6.576198\n",
       "std        4.947738      1.471852           1.465320\n",
       "min        4.000000      1.000000           1.000000\n",
       "25%       25.000000      6.000000           6.000000\n",
       "50%       28.000000      7.000000           7.000000\n",
       "75%       31.000000      8.000000           8.000000\n",
       "max       44.000000     13.000000          13.000000"
      ]
     },
     "execution_count": 21,
     "metadata": {},
     "output_type": "execute_result"
    }
   ],
   "source": [
    "df[[\"len\", \"word_count\", \"unique_word_count\"]].describe()"
   ]
  },
  {
   "cell_type": "code",
   "execution_count": 22,
   "id": "7c9adfce",
   "metadata": {},
   "outputs": [
    {
     "data": {
      "text/plain": [
       "<seaborn.axisgrid.FacetGrid at 0x1d623829548>"
      ]
     },
     "execution_count": 22,
     "metadata": {},
     "output_type": "execute_result"
    },
    {
     "data": {
      "image/png": "[encoded data removed]",
      "text/plain": [
       "<Figure size 1513.5x576 with 7 Axes>"
      ]
     },
     "metadata": {
      "image/png": {
       "height": 570,
       "width": 1512
      },
      "needs_background": "light"
     },
     "output_type": "display_data"
    }
   ],
   "source": [
    "sns.displot(data = df, x = \"len\", hue = \"topic\", col = \"topic\", col_wrap = 2, aspect = 5, height = 2)"
   ]
  },
  {
   "cell_type": "code",
   "execution_count": 23,
   "id": "106f2999",
   "metadata": {},
   "outputs": [
    {
     "data": {
      "text/plain": [
       "<seaborn.axisgrid.FacetGrid at 0x1d623845688>"
      ]
     },
     "execution_count": 23,
     "metadata": {},
     "output_type": "execute_result"
    },
    {
     "data": {
      "image/png": "[encoded data removed]",
      "text/plain": [
       "<Figure size 1513.5x576 with 7 Axes>"
      ]
     },
     "metadata": {
      "image/png": {
       "height": 570,
       "width": 1512
      },
      "needs_background": "light"
     },
     "output_type": "display_data"
    }
   ],
   "source": [
    "sns.displot(data = df, x = \"word_count\", hue = \"topic\", col = \"topic\", col_wrap = 2, aspect = 5, height = 2)"
   ]
  },
  {
   "cell_type": "code",
   "execution_count": 24,
   "id": "1746f95d",
   "metadata": {},
   "outputs": [
    {
     "data": {
      "text/plain": [
       "<seaborn.axisgrid.FacetGrid at 0x1d626a80548>"
      ]
     },
     "execution_count": 24,
     "metadata": {},
     "output_type": "execute_result"
    },
    {
     "data": {
      "image/png": "[encoded data removed]",
      "text/plain": [
       "<Figure size 1513.5x576 with 7 Axes>"
      ]
     },
     "metadata": {
      "image/png": {
       "height": 570,
       "width": 1512
      },
      "needs_background": "light"
     },
     "output_type": "display_data"
    }
   ],
   "source": [
    "sns.displot(data = df, x = \"unique_word_count\", hue = \"topic\", col = \"topic\", col_wrap = 2, aspect = 5, height = 2)"
   ]
  },
  {
   "cell_type": "markdown",
   "id": "4b0b0683",
   "metadata": {},
   "source": [
    "문자 전처리"
   ]
  },
  {
   "cell_type": "code",
   "execution_count": 25,
   "id": "ed32ffac",
   "metadata": {},
   "outputs": [],
   "source": [
    "import re\n",
    "df[\"title\"] = df[\"title\"].str.replace(\"[0-9]\", \"\", regex = True)\n",
    "df[\"title\"] = df[\"title\"].str.lower()"
   ]
  },
  {
   "cell_type": "code",
   "execution_count": 26,
   "id": "0dd2268b",
   "metadata": {},
   "outputs": [
    {
     "data": {
      "text/html": [
       "<div>\n",
       "<style scoped>\n",
       "    .dataframe tbody tr th:only-of-type {\n",
       "        vertical-align: middle;\n",
       "    }\n",
       "\n",
       "    .dataframe tbody tr th {\n",
       "        vertical-align: top;\n",
       "    }\n",
       "\n",
       "    .dataframe thead th {\n",
       "        text-align: right;\n",
       "    }\n",
       "</style>\n",
       "<table border=\"1\" class=\"dataframe\">\n",
       "  <thead>\n",
       "    <tr style=\"text-align: right;\">\n",
       "      <th></th>\n",
       "      <th>index</th>\n",
       "      <th>title</th>\n",
       "      <th>topic_idx</th>\n",
       "      <th>topic</th>\n",
       "      <th>len</th>\n",
       "      <th>word_count</th>\n",
       "      <th>unique_word_count</th>\n",
       "    </tr>\n",
       "  </thead>\n",
       "  <tbody>\n",
       "    <tr>\n",
       "      <th>0</th>\n",
       "      <td>0</td>\n",
       "      <td>인천→핀란드 항공기 결항…휴가철 여행객 분통</td>\n",
       "      <td>4.0</td>\n",
       "      <td>세계</td>\n",
       "      <td>24</td>\n",
       "      <td>5</td>\n",
       "      <td>5</td>\n",
       "    </tr>\n",
       "    <tr>\n",
       "      <th>1</th>\n",
       "      <td>1</td>\n",
       "      <td>실리콘밸리 넘어서겠다…구글 조원 들여 美전역 거점화</td>\n",
       "      <td>4.0</td>\n",
       "      <td>세계</td>\n",
       "      <td>30</td>\n",
       "      <td>6</td>\n",
       "      <td>6</td>\n",
       "    </tr>\n",
       "    <tr>\n",
       "      <th>2</th>\n",
       "      <td>2</td>\n",
       "      <td>이란 외무 긴장완화 해결책은 미국이 경제전쟁 멈추는 것</td>\n",
       "      <td>4.0</td>\n",
       "      <td>세계</td>\n",
       "      <td>30</td>\n",
       "      <td>8</td>\n",
       "      <td>8</td>\n",
       "    </tr>\n",
       "    <tr>\n",
       "      <th>3</th>\n",
       "      <td>3</td>\n",
       "      <td>nyt 클린턴 측근韓기업 특수관계 조명…공과 사 맞물려종합</td>\n",
       "      <td>4.0</td>\n",
       "      <td>세계</td>\n",
       "      <td>32</td>\n",
       "      <td>7</td>\n",
       "      <td>7</td>\n",
       "    </tr>\n",
       "    <tr>\n",
       "      <th>4</th>\n",
       "      <td>4</td>\n",
       "      <td>시진핑 트럼프에 중미 무역협상 조속 타결 희망</td>\n",
       "      <td>4.0</td>\n",
       "      <td>세계</td>\n",
       "      <td>25</td>\n",
       "      <td>7</td>\n",
       "      <td>7</td>\n",
       "    </tr>\n",
       "    <tr>\n",
       "      <th>...</th>\n",
       "      <td>...</td>\n",
       "      <td>...</td>\n",
       "      <td>...</td>\n",
       "      <td>...</td>\n",
       "      <td>...</td>\n",
       "      <td>...</td>\n",
       "      <td>...</td>\n",
       "    </tr>\n",
       "    <tr>\n",
       "      <th>54780</th>\n",
       "      <td>54780</td>\n",
       "      <td>인천 오후 시분 대설주의보…눈 .cm 쌓여</td>\n",
       "      <td>NaN</td>\n",
       "      <td>NaN</td>\n",
       "      <td>28</td>\n",
       "      <td>6</td>\n",
       "      <td>6</td>\n",
       "    </tr>\n",
       "    <tr>\n",
       "      <th>54781</th>\n",
       "      <td>54781</td>\n",
       "      <td>노래방에서 지인 성추행 외교부 사무관 불구속 입건종합</td>\n",
       "      <td>NaN</td>\n",
       "      <td>NaN</td>\n",
       "      <td>29</td>\n",
       "      <td>7</td>\n",
       "      <td>7</td>\n",
       "    </tr>\n",
       "    <tr>\n",
       "      <th>54782</th>\n",
       "      <td>54782</td>\n",
       "      <td>년 전 부마항쟁 부산 시위 사진 점 최초 공개</td>\n",
       "      <td>NaN</td>\n",
       "      <td>NaN</td>\n",
       "      <td>28</td>\n",
       "      <td>9</td>\n",
       "      <td>9</td>\n",
       "    </tr>\n",
       "    <tr>\n",
       "      <th>54783</th>\n",
       "      <td>54783</td>\n",
       "      <td>게시판 아리랑tv 아프리카개발은행 총회 개회식 생중계</td>\n",
       "      <td>NaN</td>\n",
       "      <td>NaN</td>\n",
       "      <td>29</td>\n",
       "      <td>6</td>\n",
       "      <td>6</td>\n",
       "    </tr>\n",
       "    <tr>\n",
       "      <th>54784</th>\n",
       "      <td>54784</td>\n",
       "      <td>유영민 과기장관 강소특구는 지역 혁신의 중심…지원책 강구</td>\n",
       "      <td>NaN</td>\n",
       "      <td>NaN</td>\n",
       "      <td>31</td>\n",
       "      <td>7</td>\n",
       "      <td>7</td>\n",
       "    </tr>\n",
       "  </tbody>\n",
       "</table>\n",
       "<p>54785 rows × 7 columns</p>\n",
       "</div>"
      ],
      "text/plain": [
       "       index                             title  topic_idx topic  len  \\\n",
       "0          0          인천→핀란드 항공기 결항…휴가철 여행객 분통        4.0    세계   24   \n",
       "1          1      실리콘밸리 넘어서겠다…구글 조원 들여 美전역 거점화        4.0    세계   30   \n",
       "2          2    이란 외무 긴장완화 해결책은 미국이 경제전쟁 멈추는 것        4.0    세계   30   \n",
       "3          3  nyt 클린턴 측근韓기업 특수관계 조명…공과 사 맞물려종합        4.0    세계   32   \n",
       "4          4         시진핑 트럼프에 중미 무역협상 조속 타결 희망        4.0    세계   25   \n",
       "...      ...                               ...        ...   ...  ...   \n",
       "54780  54780           인천 오후 시분 대설주의보…눈 .cm 쌓여        NaN   NaN   28   \n",
       "54781  54781     노래방에서 지인 성추행 외교부 사무관 불구속 입건종합        NaN   NaN   29   \n",
       "54782  54782         년 전 부마항쟁 부산 시위 사진 점 최초 공개        NaN   NaN   28   \n",
       "54783  54783     게시판 아리랑tv 아프리카개발은행 총회 개회식 생중계        NaN   NaN   29   \n",
       "54784  54784   유영민 과기장관 강소특구는 지역 혁신의 중심…지원책 강구        NaN   NaN   31   \n",
       "\n",
       "       word_count  unique_word_count  \n",
       "0               5                  5  \n",
       "1               6                  6  \n",
       "2               8                  8  \n",
       "3               7                  7  \n",
       "4               7                  7  \n",
       "...           ...                ...  \n",
       "54780           6                  6  \n",
       "54781           7                  7  \n",
       "54782           9                  9  \n",
       "54783           6                  6  \n",
       "54784           7                  7  \n",
       "\n",
       "[54785 rows x 7 columns]"
      ]
     },
     "execution_count": 26,
     "metadata": {},
     "output_type": "execute_result"
    }
   ],
   "source": [
    "df"
   ]
  },
  {
   "cell_type": "code",
   "execution_count": 28,
   "id": "77696d24",
   "metadata": {},
   "outputs": [
    {
     "name": "stderr",
     "output_type": "stream",
     "text": [
      "100%|███████████████████████████████████████████████████████████████████████████| 45654/45654 [00:56<00:00, 812.16it/s]\n",
      "100%|█████████████████████████████████████████████████████████████████████████████| 9131/9131 [00:14<00:00, 650.58it/s]\n"
     ]
    }
   ],
   "source": [
    "from konlpy.tag import Okt\n",
    "okt = Okt()\n",
    "\n",
    "def okt_clean(text) :\n",
    "    clean_text = []\n",
    "    # okt.pos : (단어, 품사)로 이루어진 리스트\n",
    "    for word in okt.pos(text, stem = True) :\n",
    "        # 조사, 어미, 구두점 제거\n",
    "        if word[1] not in [\"Josa\", \"Eomi\", \"Punctuation\"] :\n",
    "            clean_text.append(word[0])\n",
    "            \n",
    "    return \" \".join(clean_text)\n",
    "    \n",
    "from tqdm import tqdm\n",
    "tqdm.pandas()\n",
    "\n",
    "# progress_map : 반복 가능한 객체에 대해 진행 상황을 보여주는 프로그레스 바를 생성한다.\n",
    "train[\"title\"] = train[\"title\"].progress_map(okt_clean)\n",
    "test[\"title\"] = test[\"title\"].progress_map(okt_clean)"
   ]
  },
  {
   "cell_type": "code",
   "execution_count": 72,
   "id": "2589b415",
   "metadata": {},
   "outputs": [
    {
     "data": {
      "text/plain": [
       "[('인천', 'Noun'),\n",
       " ('→', 'Foreign'),\n",
       " ('핀란드', 'Noun'),\n",
       " ('항공기', 'Noun'),\n",
       " ('결항', 'Noun'),\n",
       " ('…', 'Punctuation'),\n",
       " ('휴가', 'Noun'),\n",
       " ('철', 'Noun'),\n",
       " ('여행객', 'Noun'),\n",
       " ('분통', 'Noun')]"
      ]
     },
     "execution_count": 72,
     "metadata": {},
     "output_type": "execute_result"
    }
   ],
   "source": [
    "okt.pos(df[\"title\"][0], stem = True)"
   ]
  },
  {
   "cell_type": "code",
   "execution_count": 29,
   "id": "93d2f55d",
   "metadata": {},
   "outputs": [],
   "source": [
    "def remove_stopwords(text) :\n",
    "    tokens = text.split(' ')\n",
    "    stops = [\"합니다\", \"하는\", \"할\", \"하고\", \"한다\", \"그리고\", \"입니다\", \"그\", \"등\", \"이런\", \" 것 \", \" 및 \", \"제 \", \" 더 \"]\n",
    "    meaningful_words = [w for w in tokens if not w in stops]\n",
    "    return ' '.join(meaningful_words)"
   ]
  },
  {
   "cell_type": "code",
   "execution_count": 30,
   "id": "80ac2dbf",
   "metadata": {},
   "outputs": [],
   "source": [
    "df[\"title\"] = df[\"title\"].apply(remove_stopwords)"
   ]
  },
  {
   "cell_type": "code",
   "execution_count": 31,
   "id": "ef4e1cce",
   "metadata": {},
   "outputs": [
    {
     "data": {
      "text/html": [
       "<div>\n",
       "<style scoped>\n",
       "    .dataframe tbody tr th:only-of-type {\n",
       "        vertical-align: middle;\n",
       "    }\n",
       "\n",
       "    .dataframe tbody tr th {\n",
       "        vertical-align: top;\n",
       "    }\n",
       "\n",
       "    .dataframe thead th {\n",
       "        text-align: right;\n",
       "    }\n",
       "</style>\n",
       "<table border=\"1\" class=\"dataframe\">\n",
       "  <thead>\n",
       "    <tr style=\"text-align: right;\">\n",
       "      <th></th>\n",
       "      <th>index</th>\n",
       "      <th>title</th>\n",
       "      <th>topic_idx</th>\n",
       "      <th>topic</th>\n",
       "      <th>len</th>\n",
       "      <th>word_count</th>\n",
       "      <th>unique_word_count</th>\n",
       "    </tr>\n",
       "  </thead>\n",
       "  <tbody>\n",
       "    <tr>\n",
       "      <th>0</th>\n",
       "      <td>0</td>\n",
       "      <td>인천→핀란드 항공기 결항…휴가철 여행객 분통</td>\n",
       "      <td>4.0</td>\n",
       "      <td>세계</td>\n",
       "      <td>24</td>\n",
       "      <td>5</td>\n",
       "      <td>5</td>\n",
       "    </tr>\n",
       "    <tr>\n",
       "      <th>1</th>\n",
       "      <td>1</td>\n",
       "      <td>실리콘밸리 넘어서겠다…구글 조원 들여 美전역 거점화</td>\n",
       "      <td>4.0</td>\n",
       "      <td>세계</td>\n",
       "      <td>30</td>\n",
       "      <td>6</td>\n",
       "      <td>6</td>\n",
       "    </tr>\n",
       "    <tr>\n",
       "      <th>2</th>\n",
       "      <td>2</td>\n",
       "      <td>이란 외무 긴장완화 해결책은 미국이 경제전쟁 멈추는 것</td>\n",
       "      <td>4.0</td>\n",
       "      <td>세계</td>\n",
       "      <td>30</td>\n",
       "      <td>8</td>\n",
       "      <td>8</td>\n",
       "    </tr>\n",
       "    <tr>\n",
       "      <th>3</th>\n",
       "      <td>3</td>\n",
       "      <td>nyt 클린턴 측근韓기업 특수관계 조명…공과 사 맞물려종합</td>\n",
       "      <td>4.0</td>\n",
       "      <td>세계</td>\n",
       "      <td>32</td>\n",
       "      <td>7</td>\n",
       "      <td>7</td>\n",
       "    </tr>\n",
       "    <tr>\n",
       "      <th>4</th>\n",
       "      <td>4</td>\n",
       "      <td>시진핑 트럼프에 중미 무역협상 조속 타결 희망</td>\n",
       "      <td>4.0</td>\n",
       "      <td>세계</td>\n",
       "      <td>25</td>\n",
       "      <td>7</td>\n",
       "      <td>7</td>\n",
       "    </tr>\n",
       "    <tr>\n",
       "      <th>...</th>\n",
       "      <td>...</td>\n",
       "      <td>...</td>\n",
       "      <td>...</td>\n",
       "      <td>...</td>\n",
       "      <td>...</td>\n",
       "      <td>...</td>\n",
       "      <td>...</td>\n",
       "    </tr>\n",
       "    <tr>\n",
       "      <th>54780</th>\n",
       "      <td>54780</td>\n",
       "      <td>인천 오후 시분 대설주의보…눈 .cm 쌓여</td>\n",
       "      <td>NaN</td>\n",
       "      <td>NaN</td>\n",
       "      <td>28</td>\n",
       "      <td>6</td>\n",
       "      <td>6</td>\n",
       "    </tr>\n",
       "    <tr>\n",
       "      <th>54781</th>\n",
       "      <td>54781</td>\n",
       "      <td>노래방에서 지인 성추행 외교부 사무관 불구속 입건종합</td>\n",
       "      <td>NaN</td>\n",
       "      <td>NaN</td>\n",
       "      <td>29</td>\n",
       "      <td>7</td>\n",
       "      <td>7</td>\n",
       "    </tr>\n",
       "    <tr>\n",
       "      <th>54782</th>\n",
       "      <td>54782</td>\n",
       "      <td>년 전 부마항쟁 부산 시위 사진 점 최초 공개</td>\n",
       "      <td>NaN</td>\n",
       "      <td>NaN</td>\n",
       "      <td>28</td>\n",
       "      <td>9</td>\n",
       "      <td>9</td>\n",
       "    </tr>\n",
       "    <tr>\n",
       "      <th>54783</th>\n",
       "      <td>54783</td>\n",
       "      <td>게시판 아리랑tv 아프리카개발은행 총회 개회식 생중계</td>\n",
       "      <td>NaN</td>\n",
       "      <td>NaN</td>\n",
       "      <td>29</td>\n",
       "      <td>6</td>\n",
       "      <td>6</td>\n",
       "    </tr>\n",
       "    <tr>\n",
       "      <th>54784</th>\n",
       "      <td>54784</td>\n",
       "      <td>유영민 과기장관 강소특구는 지역 혁신의 중심…지원책 강구</td>\n",
       "      <td>NaN</td>\n",
       "      <td>NaN</td>\n",
       "      <td>31</td>\n",
       "      <td>7</td>\n",
       "      <td>7</td>\n",
       "    </tr>\n",
       "  </tbody>\n",
       "</table>\n",
       "<p>54785 rows × 7 columns</p>\n",
       "</div>"
      ],
      "text/plain": [
       "       index                             title  topic_idx topic  len  \\\n",
       "0          0          인천→핀란드 항공기 결항…휴가철 여행객 분통        4.0    세계   24   \n",
       "1          1      실리콘밸리 넘어서겠다…구글 조원 들여 美전역 거점화        4.0    세계   30   \n",
       "2          2    이란 외무 긴장완화 해결책은 미국이 경제전쟁 멈추는 것        4.0    세계   30   \n",
       "3          3  nyt 클린턴 측근韓기업 특수관계 조명…공과 사 맞물려종합        4.0    세계   32   \n",
       "4          4         시진핑 트럼프에 중미 무역협상 조속 타결 희망        4.0    세계   25   \n",
       "...      ...                               ...        ...   ...  ...   \n",
       "54780  54780           인천 오후 시분 대설주의보…눈 .cm 쌓여        NaN   NaN   28   \n",
       "54781  54781     노래방에서 지인 성추행 외교부 사무관 불구속 입건종합        NaN   NaN   29   \n",
       "54782  54782         년 전 부마항쟁 부산 시위 사진 점 최초 공개        NaN   NaN   28   \n",
       "54783  54783     게시판 아리랑tv 아프리카개발은행 총회 개회식 생중계        NaN   NaN   29   \n",
       "54784  54784   유영민 과기장관 강소특구는 지역 혁신의 중심…지원책 강구        NaN   NaN   31   \n",
       "\n",
       "       word_count  unique_word_count  \n",
       "0               5                  5  \n",
       "1               6                  6  \n",
       "2               8                  8  \n",
       "3               7                  7  \n",
       "4               7                  7  \n",
       "...           ...                ...  \n",
       "54780           6                  6  \n",
       "54781           7                  7  \n",
       "54782           9                  9  \n",
       "54783           6                  6  \n",
       "54784           7                  7  \n",
       "\n",
       "[54785 rows x 7 columns]"
      ]
     },
     "execution_count": 31,
     "metadata": {},
     "output_type": "execute_result"
    }
   ],
   "source": [
    "df"
   ]
  },
  {
   "cell_type": "markdown",
   "id": "d97b6360",
   "metadata": {},
   "source": [
    "학습, 시험데이터 세트 분리"
   ]
  },
  {
   "cell_type": "code",
   "execution_count": 32,
   "id": "fab44604",
   "metadata": {},
   "outputs": [
    {
     "data": {
      "text/html": [
       "<div>\n",
       "<style scoped>\n",
       "    .dataframe tbody tr th:only-of-type {\n",
       "        vertical-align: middle;\n",
       "    }\n",
       "\n",
       "    .dataframe tbody tr th {\n",
       "        vertical-align: top;\n",
       "    }\n",
       "\n",
       "    .dataframe thead th {\n",
       "        text-align: right;\n",
       "    }\n",
       "</style>\n",
       "<table border=\"1\" class=\"dataframe\">\n",
       "  <thead>\n",
       "    <tr style=\"text-align: right;\">\n",
       "      <th></th>\n",
       "      <th>index</th>\n",
       "      <th>title</th>\n",
       "      <th>topic_idx</th>\n",
       "      <th>topic</th>\n",
       "      <th>len</th>\n",
       "      <th>word_count</th>\n",
       "      <th>unique_word_count</th>\n",
       "    </tr>\n",
       "  </thead>\n",
       "  <tbody>\n",
       "    <tr>\n",
       "      <th>0</th>\n",
       "      <td>0</td>\n",
       "      <td>인천→핀란드 항공기 결항…휴가철 여행객 분통</td>\n",
       "      <td>4.0</td>\n",
       "      <td>세계</td>\n",
       "      <td>24</td>\n",
       "      <td>5</td>\n",
       "      <td>5</td>\n",
       "    </tr>\n",
       "    <tr>\n",
       "      <th>1</th>\n",
       "      <td>1</td>\n",
       "      <td>실리콘밸리 넘어서겠다…구글 조원 들여 美전역 거점화</td>\n",
       "      <td>4.0</td>\n",
       "      <td>세계</td>\n",
       "      <td>30</td>\n",
       "      <td>6</td>\n",
       "      <td>6</td>\n",
       "    </tr>\n",
       "    <tr>\n",
       "      <th>2</th>\n",
       "      <td>2</td>\n",
       "      <td>이란 외무 긴장완화 해결책은 미국이 경제전쟁 멈추는 것</td>\n",
       "      <td>4.0</td>\n",
       "      <td>세계</td>\n",
       "      <td>30</td>\n",
       "      <td>8</td>\n",
       "      <td>8</td>\n",
       "    </tr>\n",
       "    <tr>\n",
       "      <th>3</th>\n",
       "      <td>3</td>\n",
       "      <td>nyt 클린턴 측근韓기업 특수관계 조명…공과 사 맞물려종합</td>\n",
       "      <td>4.0</td>\n",
       "      <td>세계</td>\n",
       "      <td>32</td>\n",
       "      <td>7</td>\n",
       "      <td>7</td>\n",
       "    </tr>\n",
       "    <tr>\n",
       "      <th>4</th>\n",
       "      <td>4</td>\n",
       "      <td>시진핑 트럼프에 중미 무역협상 조속 타결 희망</td>\n",
       "      <td>4.0</td>\n",
       "      <td>세계</td>\n",
       "      <td>25</td>\n",
       "      <td>7</td>\n",
       "      <td>7</td>\n",
       "    </tr>\n",
       "    <tr>\n",
       "      <th>...</th>\n",
       "      <td>...</td>\n",
       "      <td>...</td>\n",
       "      <td>...</td>\n",
       "      <td>...</td>\n",
       "      <td>...</td>\n",
       "      <td>...</td>\n",
       "      <td>...</td>\n",
       "    </tr>\n",
       "    <tr>\n",
       "      <th>45649</th>\n",
       "      <td>45649</td>\n",
       "      <td>kb금융 미국 ib 스티펠과 제휴…선진국 시장 공략</td>\n",
       "      <td>1.0</td>\n",
       "      <td>경제</td>\n",
       "      <td>28</td>\n",
       "      <td>7</td>\n",
       "      <td>7</td>\n",
       "    </tr>\n",
       "    <tr>\n",
       "      <th>45650</th>\n",
       "      <td>45650</td>\n",
       "      <td>보 서울시교육청 신종코로나 확산에 개학 연기·휴업 검토</td>\n",
       "      <td>2.0</td>\n",
       "      <td>사회</td>\n",
       "      <td>31</td>\n",
       "      <td>7</td>\n",
       "      <td>7</td>\n",
       "    </tr>\n",
       "    <tr>\n",
       "      <th>45651</th>\n",
       "      <td>45651</td>\n",
       "      <td>게시판 키움증권  키움 영웅전 실전투자대회</td>\n",
       "      <td>1.0</td>\n",
       "      <td>경제</td>\n",
       "      <td>27</td>\n",
       "      <td>6</td>\n",
       "      <td>6</td>\n",
       "    </tr>\n",
       "    <tr>\n",
       "      <th>45652</th>\n",
       "      <td>45652</td>\n",
       "      <td>답변하는 배기동 국립중앙박물관장</td>\n",
       "      <td>2.0</td>\n",
       "      <td>사회</td>\n",
       "      <td>17</td>\n",
       "      <td>3</td>\n",
       "      <td>3</td>\n",
       "    </tr>\n",
       "    <tr>\n",
       "      <th>45653</th>\n",
       "      <td>45653</td>\n",
       "      <td>한국인터넷기자상 시상식 내달 일 개최…특별상 김성후</td>\n",
       "      <td>2.0</td>\n",
       "      <td>사회</td>\n",
       "      <td>34</td>\n",
       "      <td>7</td>\n",
       "      <td>7</td>\n",
       "    </tr>\n",
       "  </tbody>\n",
       "</table>\n",
       "<p>45654 rows × 7 columns</p>\n",
       "</div>"
      ],
      "text/plain": [
       "       index                             title  topic_idx topic  len  \\\n",
       "0          0          인천→핀란드 항공기 결항…휴가철 여행객 분통        4.0    세계   24   \n",
       "1          1      실리콘밸리 넘어서겠다…구글 조원 들여 美전역 거점화        4.0    세계   30   \n",
       "2          2    이란 외무 긴장완화 해결책은 미국이 경제전쟁 멈추는 것        4.0    세계   30   \n",
       "3          3  nyt 클린턴 측근韓기업 특수관계 조명…공과 사 맞물려종합        4.0    세계   32   \n",
       "4          4         시진핑 트럼프에 중미 무역협상 조속 타결 희망        4.0    세계   25   \n",
       "...      ...                               ...        ...   ...  ...   \n",
       "45649  45649      kb금융 미국 ib 스티펠과 제휴…선진국 시장 공략        1.0    경제   28   \n",
       "45650  45650    보 서울시교육청 신종코로나 확산에 개학 연기·휴업 검토        2.0    사회   31   \n",
       "45651  45651           게시판 키움증권  키움 영웅전 실전투자대회        1.0    경제   27   \n",
       "45652  45652                 답변하는 배기동 국립중앙박물관장        2.0    사회   17   \n",
       "45653  45653      한국인터넷기자상 시상식 내달 일 개최…특별상 김성후        2.0    사회   34   \n",
       "\n",
       "       word_count  unique_word_count  \n",
       "0               5                  5  \n",
       "1               6                  6  \n",
       "2               8                  8  \n",
       "3               7                  7  \n",
       "4               7                  7  \n",
       "...           ...                ...  \n",
       "45649           7                  7  \n",
       "45650           7                  7  \n",
       "45651           6                  6  \n",
       "45652           3                  3  \n",
       "45653           7                  7  \n",
       "\n",
       "[45654 rows x 7 columns]"
      ]
     },
     "execution_count": 32,
     "metadata": {},
     "output_type": "execute_result"
    }
   ],
   "source": [
    "# train과 test 데이터를 병합했었는데, 다시 분리한다.\n",
    "# train은 topic_idx가 있고, test는 topic_idx가 없다(nan)\n",
    "label_name = \"topic_idx\"\n",
    "train = df[df[label_name].notnull()]\n",
    "test = df[df[label_name].isnull()]\n",
    "train"
   ]
  },
  {
   "cell_type": "code",
   "execution_count": 33,
   "id": "69f1bf8c",
   "metadata": {},
   "outputs": [
    {
     "data": {
      "text/html": [
       "<div>\n",
       "<style scoped>\n",
       "    .dataframe tbody tr th:only-of-type {\n",
       "        vertical-align: middle;\n",
       "    }\n",
       "\n",
       "    .dataframe tbody tr th {\n",
       "        vertical-align: top;\n",
       "    }\n",
       "\n",
       "    .dataframe thead th {\n",
       "        text-align: right;\n",
       "    }\n",
       "</style>\n",
       "<table border=\"1\" class=\"dataframe\">\n",
       "  <thead>\n",
       "    <tr style=\"text-align: right;\">\n",
       "      <th></th>\n",
       "      <th>index</th>\n",
       "      <th>title</th>\n",
       "      <th>topic_idx</th>\n",
       "      <th>topic</th>\n",
       "      <th>len</th>\n",
       "      <th>word_count</th>\n",
       "      <th>unique_word_count</th>\n",
       "    </tr>\n",
       "  </thead>\n",
       "  <tbody>\n",
       "    <tr>\n",
       "      <th>45654</th>\n",
       "      <td>45654</td>\n",
       "      <td>유튜브 내달 일까지 크리에이터 지원 공간 운영</td>\n",
       "      <td>NaN</td>\n",
       "      <td>NaN</td>\n",
       "      <td>26</td>\n",
       "      <td>7</td>\n",
       "      <td>7</td>\n",
       "    </tr>\n",
       "    <tr>\n",
       "      <th>45655</th>\n",
       "      <td>45655</td>\n",
       "      <td>어버이날 맑다가 흐려져…남부지방 옅은 황사</td>\n",
       "      <td>NaN</td>\n",
       "      <td>NaN</td>\n",
       "      <td>23</td>\n",
       "      <td>5</td>\n",
       "      <td>5</td>\n",
       "    </tr>\n",
       "    <tr>\n",
       "      <th>45656</th>\n",
       "      <td>45656</td>\n",
       "      <td>내년부터 국가rd 평가 때 논문건수는 반영 않는다</td>\n",
       "      <td>NaN</td>\n",
       "      <td>NaN</td>\n",
       "      <td>27</td>\n",
       "      <td>7</td>\n",
       "      <td>7</td>\n",
       "    </tr>\n",
       "    <tr>\n",
       "      <th>45657</th>\n",
       "      <td>45657</td>\n",
       "      <td>김명자 신임 과총 회장 원로와 젊은 과학자 지혜 모을 것</td>\n",
       "      <td>NaN</td>\n",
       "      <td>NaN</td>\n",
       "      <td>31</td>\n",
       "      <td>10</td>\n",
       "      <td>10</td>\n",
       "    </tr>\n",
       "    <tr>\n",
       "      <th>45658</th>\n",
       "      <td>45658</td>\n",
       "      <td>회색인간 작가 김동식 양심고백 새 소설집 권 출간</td>\n",
       "      <td>NaN</td>\n",
       "      <td>NaN</td>\n",
       "      <td>30</td>\n",
       "      <td>9</td>\n",
       "      <td>9</td>\n",
       "    </tr>\n",
       "    <tr>\n",
       "      <th>...</th>\n",
       "      <td>...</td>\n",
       "      <td>...</td>\n",
       "      <td>...</td>\n",
       "      <td>...</td>\n",
       "      <td>...</td>\n",
       "      <td>...</td>\n",
       "      <td>...</td>\n",
       "    </tr>\n",
       "    <tr>\n",
       "      <th>54780</th>\n",
       "      <td>54780</td>\n",
       "      <td>인천 오후 시분 대설주의보…눈 .cm 쌓여</td>\n",
       "      <td>NaN</td>\n",
       "      <td>NaN</td>\n",
       "      <td>28</td>\n",
       "      <td>6</td>\n",
       "      <td>6</td>\n",
       "    </tr>\n",
       "    <tr>\n",
       "      <th>54781</th>\n",
       "      <td>54781</td>\n",
       "      <td>노래방에서 지인 성추행 외교부 사무관 불구속 입건종합</td>\n",
       "      <td>NaN</td>\n",
       "      <td>NaN</td>\n",
       "      <td>29</td>\n",
       "      <td>7</td>\n",
       "      <td>7</td>\n",
       "    </tr>\n",
       "    <tr>\n",
       "      <th>54782</th>\n",
       "      <td>54782</td>\n",
       "      <td>년 전 부마항쟁 부산 시위 사진 점 최초 공개</td>\n",
       "      <td>NaN</td>\n",
       "      <td>NaN</td>\n",
       "      <td>28</td>\n",
       "      <td>9</td>\n",
       "      <td>9</td>\n",
       "    </tr>\n",
       "    <tr>\n",
       "      <th>54783</th>\n",
       "      <td>54783</td>\n",
       "      <td>게시판 아리랑tv 아프리카개발은행 총회 개회식 생중계</td>\n",
       "      <td>NaN</td>\n",
       "      <td>NaN</td>\n",
       "      <td>29</td>\n",
       "      <td>6</td>\n",
       "      <td>6</td>\n",
       "    </tr>\n",
       "    <tr>\n",
       "      <th>54784</th>\n",
       "      <td>54784</td>\n",
       "      <td>유영민 과기장관 강소특구는 지역 혁신의 중심…지원책 강구</td>\n",
       "      <td>NaN</td>\n",
       "      <td>NaN</td>\n",
       "      <td>31</td>\n",
       "      <td>7</td>\n",
       "      <td>7</td>\n",
       "    </tr>\n",
       "  </tbody>\n",
       "</table>\n",
       "<p>9131 rows × 7 columns</p>\n",
       "</div>"
      ],
      "text/plain": [
       "       index                            title  topic_idx topic  len  \\\n",
       "45654  45654        유튜브 내달 일까지 크리에이터 지원 공간 운영        NaN   NaN   26   \n",
       "45655  45655          어버이날 맑다가 흐려져…남부지방 옅은 황사        NaN   NaN   23   \n",
       "45656  45656      내년부터 국가rd 평가 때 논문건수는 반영 않는다        NaN   NaN   27   \n",
       "45657  45657  김명자 신임 과총 회장 원로와 젊은 과학자 지혜 모을 것        NaN   NaN   31   \n",
       "45658  45658      회색인간 작가 김동식 양심고백 새 소설집 권 출간        NaN   NaN   30   \n",
       "...      ...                              ...        ...   ...  ...   \n",
       "54780  54780          인천 오후 시분 대설주의보…눈 .cm 쌓여        NaN   NaN   28   \n",
       "54781  54781    노래방에서 지인 성추행 외교부 사무관 불구속 입건종합        NaN   NaN   29   \n",
       "54782  54782        년 전 부마항쟁 부산 시위 사진 점 최초 공개        NaN   NaN   28   \n",
       "54783  54783    게시판 아리랑tv 아프리카개발은행 총회 개회식 생중계        NaN   NaN   29   \n",
       "54784  54784  유영민 과기장관 강소특구는 지역 혁신의 중심…지원책 강구        NaN   NaN   31   \n",
       "\n",
       "       word_count  unique_word_count  \n",
       "45654           7                  7  \n",
       "45655           5                  5  \n",
       "45656           7                  7  \n",
       "45657          10                 10  \n",
       "45658           9                  9  \n",
       "...           ...                ...  \n",
       "54780           6                  6  \n",
       "54781           7                  7  \n",
       "54782           9                  9  \n",
       "54783           6                  6  \n",
       "54784           7                  7  \n",
       "\n",
       "[9131 rows x 7 columns]"
      ]
     },
     "execution_count": 33,
     "metadata": {},
     "output_type": "execute_result"
    }
   ],
   "source": [
    "test"
   ]
  },
  {
   "cell_type": "code",
   "execution_count": 34,
   "id": "b5b7f904",
   "metadata": {},
   "outputs": [
    {
     "data": {
      "text/plain": [
       "((45654, 7), (9131, 7))"
      ]
     },
     "execution_count": 34,
     "metadata": {},
     "output_type": "execute_result"
    }
   ],
   "source": [
    "train.shape, test.shape"
   ]
  },
  {
   "cell_type": "code",
   "execution_count": 35,
   "id": "8d0e2704",
   "metadata": {},
   "outputs": [
    {
     "name": "stdout",
     "output_type": "stream",
     "text": [
      "0                인천→핀란드 항공기 결항…휴가철 여행객 분통\n",
      "1            실리콘밸리 넘어서겠다…구글 조원 들여 美전역 거점화\n",
      "2          이란 외무 긴장완화 해결책은 미국이 경제전쟁 멈추는 것\n",
      "3        nyt 클린턴 측근韓기업 특수관계 조명…공과 사 맞물려종합\n",
      "4               시진핑 트럼프에 중미 무역협상 조속 타결 희망\n",
      "                       ...               \n",
      "45649        kb금융 미국 ib 스티펠과 제휴…선진국 시장 공략\n",
      "45650      보 서울시교육청 신종코로나 확산에 개학 연기·휴업 검토\n",
      "45651             게시판 키움증권  키움 영웅전 실전투자대회\n",
      "45652                   답변하는 배기동 국립중앙박물관장\n",
      "45653        한국인터넷기자상 시상식 내달 일 개최…특별상 김성후\n",
      "Name: title, Length: 45654, dtype: object\n",
      "------------------------------\n",
      "45654          유튜브 내달 일까지 크리에이터 지원 공간 운영\n",
      "45655            어버이날 맑다가 흐려져…남부지방 옅은 황사\n",
      "45656        내년부터 국가rd 평가 때 논문건수는 반영 않는다\n",
      "45657    김명자 신임 과총 회장 원로와 젊은 과학자 지혜 모을 것\n",
      "45658        회색인간 작가 김동식 양심고백 새 소설집 권 출간\n",
      "                      ...               \n",
      "54780            인천 오후 시분 대설주의보…눈 .cm 쌓여\n",
      "54781      노래방에서 지인 성추행 외교부 사무관 불구속 입건종합\n",
      "54782          년 전 부마항쟁 부산 시위 사진 점 최초 공개\n",
      "54783      게시판 아리랑tv 아프리카개발은행 총회 개회식 생중계\n",
      "54784    유영민 과기장관 강소특구는 지역 혁신의 중심…지원책 강구\n",
      "Name: title, Length: 9131, dtype: object\n"
     ]
    }
   ],
   "source": [
    "print(train[\"title\"])\n",
    "print('-' * 30)\n",
    "print(test[\"title\"])"
   ]
  },
  {
   "cell_type": "code",
   "execution_count": 36,
   "id": "a608dab5",
   "metadata": {},
   "outputs": [],
   "source": [
    "X_train = train[\"title\"]\n",
    "X_test = test[\"title\"]"
   ]
  },
  {
   "cell_type": "code",
   "execution_count": 37,
   "id": "41387c85",
   "metadata": {},
   "outputs": [
    {
     "data": {
      "text/plain": [
       "((45654,), (9131,))"
      ]
     },
     "execution_count": 37,
     "metadata": {},
     "output_type": "execute_result"
    }
   ],
   "source": [
    "X_train.shape, X_test.shape"
   ]
  },
  {
   "cell_type": "code",
   "execution_count": 38,
   "id": "60ad6852",
   "metadata": {},
   "outputs": [
    {
     "data": {
      "text/plain": [
       "0        4.0\n",
       "1        4.0\n",
       "2        4.0\n",
       "3        4.0\n",
       "4        4.0\n",
       "        ... \n",
       "45649    1.0\n",
       "45650    2.0\n",
       "45651    1.0\n",
       "45652    2.0\n",
       "45653    2.0\n",
       "Name: topic_idx, Length: 45654, dtype: float64"
      ]
     },
     "execution_count": 38,
     "metadata": {},
     "output_type": "execute_result"
    }
   ],
   "source": [
    "y_train = train[label_name]\n",
    "y_train"
   ]
  },
  {
   "cell_type": "code",
   "execution_count": 39,
   "id": "27fcdae0",
   "metadata": {},
   "outputs": [
    {
     "data": {
      "text/plain": [
       "4.0    7629\n",
       "2.0    7362\n",
       "5.0    6933\n",
       "6.0    6751\n",
       "1.0    6222\n",
       "3.0    5933\n",
       "0.0    4824\n",
       "Name: topic_idx, dtype: int64"
      ]
     },
     "execution_count": 39,
     "metadata": {},
     "output_type": "execute_result"
    }
   ],
   "source": [
    "y_train.value_counts()"
   ]
  },
  {
   "cell_type": "code",
   "execution_count": 40,
   "id": "7c22b326",
   "metadata": {},
   "outputs": [
    {
     "data": {
      "text/plain": [
       "Series([], Name: topic_idx, dtype: int64)"
      ]
     },
     "execution_count": 40,
     "metadata": {},
     "output_type": "execute_result"
    }
   ],
   "source": [
    "y_test = test[label_name]\n",
    "y_test.value_counts()"
   ]
  },
  {
   "cell_type": "markdown",
   "id": "c6c26442",
   "metadata": {},
   "source": [
    "단어 벡터화(임베딩)"
   ]
  },
  {
   "cell_type": "code",
   "execution_count": 41,
   "id": "8c9247c5",
   "metadata": {},
   "outputs": [],
   "source": [
    "from sklearn.feature_extraction.text import TfidfVectorizer\n",
    "\n",
    "tfidf_vect = TfidfVectorizer(tokenizer = None,\n",
    "                             ngram_range = (1, 2),\n",
    "                             min_df = 3,\n",
    "                             max_df = 0.95)\n",
    "\n",
    "train_feature_tfidf = tfidf_vect.fit_transform(X_train)"
   ]
  },
  {
   "cell_type": "code",
   "execution_count": 42,
   "id": "5b7b6657",
   "metadata": {},
   "outputs": [
    {
     "data": {
      "text/plain": [
       "((45654, 22377), (9131, 22377))"
      ]
     },
     "execution_count": 42,
     "metadata": {},
     "output_type": "execute_result"
    }
   ],
   "source": [
    "test_feature_tfidf = tfidf_vect.transform(X_test)\n",
    "\n",
    "train_feature_tfidf.shape, test_feature_tfidf.shape"
   ]
  },
  {
   "cell_type": "code",
   "execution_count": 43,
   "id": "ba423c09",
   "metadata": {},
   "outputs": [
    {
     "name": "stdout",
     "output_type": "stream",
     "text": [
      "22377\n",
      "['aa로', 'abs', 'acl', 'afc', 'afc 챔스리그', 'afc 챔피언십', 'afc 회장', 'ag', 'ag 우승', 'ai']\n"
     ]
    }
   ],
   "source": [
    "vocab = tfidf_vect.get_feature_names()\n",
    "print(len(vocab))\n",
    "print(vocab[:10])"
   ]
  },
  {
   "cell_type": "code",
   "execution_count": 44,
   "id": "95702454",
   "metadata": {},
   "outputs": [
    {
     "data": {
      "text/html": [
       "<div>\n",
       "<style scoped>\n",
       "    .dataframe tbody tr th:only-of-type {\n",
       "        vertical-align: middle;\n",
       "    }\n",
       "\n",
       "    .dataframe tbody tr th {\n",
       "        vertical-align: top;\n",
       "    }\n",
       "\n",
       "    .dataframe thead th {\n",
       "        text-align: right;\n",
       "    }\n",
       "</style>\n",
       "<table border=\"1\" class=\"dataframe\">\n",
       "  <thead>\n",
       "    <tr style=\"text-align: right;\">\n",
       "      <th></th>\n",
       "      <th>aa로</th>\n",
       "      <th>abs</th>\n",
       "      <th>acl</th>\n",
       "      <th>afc</th>\n",
       "      <th>afc 챔스리그</th>\n",
       "      <th>afc 챔피언십</th>\n",
       "      <th>afc 회장</th>\n",
       "      <th>ag</th>\n",
       "      <th>ag 우승</th>\n",
       "      <th>ai</th>\n",
       "      <th>...</th>\n",
       "      <th>힘으로</th>\n",
       "      <th>힘은</th>\n",
       "      <th>힘이</th>\n",
       "      <th>힘입어</th>\n",
       "      <th>힘찬</th>\n",
       "      <th>힙합</th>\n",
       "      <th>女농구대표팀</th>\n",
       "      <th>女배구</th>\n",
       "      <th>女배구 대표팀</th>\n",
       "      <th>ｍ짜리</th>\n",
       "    </tr>\n",
       "  </thead>\n",
       "  <tbody>\n",
       "    <tr>\n",
       "      <th>0</th>\n",
       "      <td>1.374165</td>\n",
       "      <td>1.493937</td>\n",
       "      <td>4.560771</td>\n",
       "      <td>10.036045</td>\n",
       "      <td>3.516982</td>\n",
       "      <td>2.254818</td>\n",
       "      <td>1.220953</td>\n",
       "      <td>14.847285</td>\n",
       "      <td>1.557569</td>\n",
       "      <td>74.285975</td>\n",
       "      <td>...</td>\n",
       "      <td>4.326381</td>\n",
       "      <td>3.062647</td>\n",
       "      <td>1.748944</td>\n",
       "      <td>2.051542</td>\n",
       "      <td>2.495783</td>\n",
       "      <td>1.965046</td>\n",
       "      <td>1.537386</td>\n",
       "      <td>8.787677</td>\n",
       "      <td>2.478833</td>\n",
       "      <td>1.40821</td>\n",
       "    </tr>\n",
       "  </tbody>\n",
       "</table>\n",
       "<p>1 rows × 22377 columns</p>\n",
       "</div>"
      ],
      "text/plain": [
       "        aa로       abs       acl        afc  afc 챔스리그  afc 챔피언십    afc 회장  \\\n",
       "0  1.374165  1.493937  4.560771  10.036045  3.516982  2.254818  1.220953   \n",
       "\n",
       "          ag     ag 우승         ai  ...       힘으로        힘은        힘이  \\\n",
       "0  14.847285  1.557569  74.285975  ...  4.326381  3.062647  1.748944   \n",
       "\n",
       "        힘입어        힘찬        힙합    女농구대표팀       女배구   女배구 대표팀      ｍ짜리  \n",
       "0  2.051542  2.495783  1.965046  1.537386  8.787677  2.478833  1.40821  \n",
       "\n",
       "[1 rows x 22377 columns]"
      ]
     },
     "execution_count": 44,
     "metadata": {},
     "output_type": "execute_result"
    }
   ],
   "source": [
    "dist = np.sum(train_feature_tfidf, axis = 0)\n",
    "\n",
    "vocab_count = pd.DataFrame(dist, columns = vocab)\n",
    "vocab_count"
   ]
  },
  {
   "cell_type": "code",
   "execution_count": 45,
   "id": "f715ab86",
   "metadata": {},
   "outputs": [
    {
     "name": "stdout",
     "output_type": "stream",
     "text": [
      "<class 'pandas.core.frame.DataFrame'>\n",
      "<class 'pandas.core.series.Series'>\n"
     ]
    }
   ],
   "source": [
    "print(type(vocab_count.T))\n",
    "print(type(vocab_count.T[0]))"
   ]
  },
  {
   "cell_type": "code",
   "execution_count": 46,
   "id": "e2db55c3",
   "metadata": {},
   "outputs": [
    {
     "data": {
      "text/plain": [
       "신간         296.661653\n",
       "게시판        223.401617\n",
       "출시         203.234941\n",
       "朴대통령       199.338249\n",
       "대통령        191.043751\n",
       "              ...    \n",
       "신문기자 출신      0.802434\n",
       "진보개혁 성향      0.802434\n",
       "진보개혁         0.802434\n",
       "최순실 특종       0.802434\n",
       "출신 최순실       0.802434\n",
       "Name: 0, Length: 22377, dtype: float64"
      ]
     },
     "execution_count": 46,
     "metadata": {},
     "output_type": "execute_result"
    }
   ],
   "source": [
    "vocab_count.T[0].sort_values(ascending = False)"
   ]
  },
  {
   "cell_type": "code",
   "execution_count": 47,
   "id": "8d796e33",
   "metadata": {},
   "outputs": [
    {
     "data": {
      "text/plain": [
       "신간      296.661653\n",
       "게시판     223.401617\n",
       "출시      203.234941\n",
       "朴대통령    199.338249\n",
       "대통령     191.043751\n",
       "억원      163.635000\n",
       "kt      159.502041\n",
       "트럼프     157.913292\n",
       "이란      155.471604\n",
       "감독      152.211215\n",
       "개최      151.065878\n",
       "한국      151.036958\n",
       "분기      144.598896\n",
       "개발      141.988705\n",
       "그래픽     123.406408\n",
       "만에      120.993650\n",
       "올해      119.015834\n",
       "공개      110.437472\n",
       "경기      110.281832\n",
       "서울      107.497806\n",
       "작년      106.962957\n",
       "개막      106.634359\n",
       "정부      106.410914\n",
       "삼성      106.337483\n",
       "지원      103.622454\n",
       "김정은     103.432709\n",
       "월드컵     102.561864\n",
       "lg      102.091111\n",
       "중국      102.051974\n",
       "코로나     101.852985\n",
       "류현진      95.783332\n",
       "네이버      95.679688\n",
       "최대       94.635324\n",
       "코스피      93.181895\n",
       "국내       91.448279\n",
       "미국       90.758572\n",
       "추진       90.624913\n",
       "시즌       90.337481\n",
       "내년       89.420886\n",
       "사망       88.273365\n",
       "서비스      87.480158\n",
       "연속       86.527242\n",
       "skt      86.046561\n",
       "세계       84.820696\n",
       "전국       84.622108\n",
       "북한       83.880295\n",
       "연승       82.642082\n",
       "특징주      81.423370\n",
       "선정       80.993337\n",
       "최고       80.873275\n",
       "Name: 0, dtype: float64"
      ]
     },
     "execution_count": 47,
     "metadata": {},
     "output_type": "execute_result"
    }
   ],
   "source": [
    "vocab_count.T[0].sort_values(ascending = False).head(50)"
   ]
  },
  {
   "cell_type": "code",
   "execution_count": 48,
   "id": "35535411",
   "metadata": {},
   "outputs": [
    {
     "data": {
      "text/plain": [
       "<AxesSubplot:>"
      ]
     },
     "execution_count": 48,
     "metadata": {},
     "output_type": "execute_result"
    },
    {
     "data": {
      "image/png": "[encoded data removed]",
      "text/plain": [
       "<Figure size 1080x288 with 1 Axes>"
      ]
     },
     "metadata": {
      "image/png": {
       "height": 276,
       "width": 876
      },
      "needs_background": "light"
     },
     "output_type": "display_data"
    }
   ],
   "source": [
    "vocab_count.T[0].sort_values(ascending = False).head(50).plot.bar(figsize = (15, 4))"
   ]
  },
  {
   "cell_type": "markdown",
   "id": "7d7d415b",
   "metadata": {},
   "source": [
    "학습과 예측하기"
   ]
  },
  {
   "cell_type": "code",
   "execution_count": 49,
   "id": "1b2899fa",
   "metadata": {},
   "outputs": [
    {
     "data": {
      "text/plain": [
       "RandomForestClassifier(n_jobs=-1, random_state=42)"
      ]
     },
     "execution_count": 49,
     "metadata": {},
     "output_type": "execute_result"
    }
   ],
   "source": [
    "from sklearn.ensemble import RandomForestClassifier\n",
    "\n",
    "# n_estimators : 결정트리 개수\n",
    "# n_jobs : CPU 코어 사용 개수 지정(-1로 지정하면 사용할 수 있는 모든 CPU 코어를 사용한다.)\n",
    "# max_depth : 트리의 최대 깊이\n",
    "# max_features : 피처의 개수 또는 비율\n",
    "# min_samples_split : 노드를 분할하기 위한 최소 샘플 데이터 수\n",
    "# min_samples_leaf : 리프노드가 되기 위해 필요한 최소 샘플 데이터 수\n",
    "# max_leaf_nodes : 리프노드의 최대 개수\n",
    "model = RandomForestClassifier(n_estimators = 100, n_jobs = -1, random_state = 42)\n",
    "model"
   ]
  },
  {
   "cell_type": "code",
   "execution_count": 50,
   "id": "592677b9",
   "metadata": {},
   "outputs": [
    {
     "name": "stderr",
     "output_type": "stream",
     "text": [
      "[Parallel(n_jobs=-1)]: Using backend LokyBackend with 8 concurrent workers.\n",
      "[Parallel(n_jobs=-1)]: Done   3 out of   3 | elapsed:   57.2s finished\n"
     ]
    }
   ],
   "source": [
    "from sklearn.model_selection import cross_val_predict\n",
    "y_pred = cross_val_predict(model, train_feature_tfidf, y_train, cv = 3, n_jobs = -1, verbose = 1)"
   ]
  },
  {
   "cell_type": "code",
   "execution_count": 73,
   "id": "48a5bc05",
   "metadata": {},
   "outputs": [
    {
     "data": {
      "text/plain": [
       "array([2., 1., 4., ..., 2., 2., 2.])"
      ]
     },
     "execution_count": 73,
     "metadata": {},
     "output_type": "execute_result"
    }
   ],
   "source": [
    "y_pred # 예측한 기사의 카테고리"
   ]
  },
  {
   "cell_type": "code",
   "execution_count": 51,
   "id": "7387d5cb",
   "metadata": {},
   "outputs": [
    {
     "data": {
      "text/plain": [
       "0.7384676041529767"
      ]
     },
     "execution_count": 51,
     "metadata": {},
     "output_type": "execute_result"
    }
   ],
   "source": [
    "valid_accuracy = (y_pred == y_train).mean()\n",
    "valid_accuracy"
   ]
  },
  {
   "cell_type": "code",
   "execution_count": 52,
   "id": "305ddfc3",
   "metadata": {},
   "outputs": [],
   "source": [
    "df_accuracy = pd.DataFrame({\"pred\" : y_pred, \"train\" : y_train})\n",
    "df_accuracy[\"accuracy\"] = (y_pred == y_train)"
   ]
  },
  {
   "cell_type": "code",
   "execution_count": 53,
   "id": "b028ffaa",
   "metadata": {},
   "outputs": [
    {
     "data": {
      "text/html": [
       "<div>\n",
       "<style scoped>\n",
       "    .dataframe tbody tr th:only-of-type {\n",
       "        vertical-align: middle;\n",
       "    }\n",
       "\n",
       "    .dataframe tbody tr th {\n",
       "        vertical-align: top;\n",
       "    }\n",
       "\n",
       "    .dataframe thead th {\n",
       "        text-align: right;\n",
       "    }\n",
       "</style>\n",
       "<table border=\"1\" class=\"dataframe\">\n",
       "  <thead>\n",
       "    <tr style=\"text-align: right;\">\n",
       "      <th></th>\n",
       "      <th>pred</th>\n",
       "      <th>train</th>\n",
       "      <th>accuracy</th>\n",
       "    </tr>\n",
       "  </thead>\n",
       "  <tbody>\n",
       "    <tr>\n",
       "      <th>0</th>\n",
       "      <td>2.0</td>\n",
       "      <td>4.0</td>\n",
       "      <td>False</td>\n",
       "    </tr>\n",
       "    <tr>\n",
       "      <th>1</th>\n",
       "      <td>1.0</td>\n",
       "      <td>4.0</td>\n",
       "      <td>False</td>\n",
       "    </tr>\n",
       "    <tr>\n",
       "      <th>2</th>\n",
       "      <td>4.0</td>\n",
       "      <td>4.0</td>\n",
       "      <td>True</td>\n",
       "    </tr>\n",
       "    <tr>\n",
       "      <th>3</th>\n",
       "      <td>3.0</td>\n",
       "      <td>4.0</td>\n",
       "      <td>False</td>\n",
       "    </tr>\n",
       "    <tr>\n",
       "      <th>4</th>\n",
       "      <td>4.0</td>\n",
       "      <td>4.0</td>\n",
       "      <td>True</td>\n",
       "    </tr>\n",
       "    <tr>\n",
       "      <th>...</th>\n",
       "      <td>...</td>\n",
       "      <td>...</td>\n",
       "      <td>...</td>\n",
       "    </tr>\n",
       "    <tr>\n",
       "      <th>45649</th>\n",
       "      <td>4.0</td>\n",
       "      <td>1.0</td>\n",
       "      <td>False</td>\n",
       "    </tr>\n",
       "    <tr>\n",
       "      <th>45650</th>\n",
       "      <td>2.0</td>\n",
       "      <td>2.0</td>\n",
       "      <td>True</td>\n",
       "    </tr>\n",
       "    <tr>\n",
       "      <th>45651</th>\n",
       "      <td>2.0</td>\n",
       "      <td>1.0</td>\n",
       "      <td>False</td>\n",
       "    </tr>\n",
       "    <tr>\n",
       "      <th>45652</th>\n",
       "      <td>2.0</td>\n",
       "      <td>2.0</td>\n",
       "      <td>True</td>\n",
       "    </tr>\n",
       "    <tr>\n",
       "      <th>45653</th>\n",
       "      <td>2.0</td>\n",
       "      <td>2.0</td>\n",
       "      <td>True</td>\n",
       "    </tr>\n",
       "  </tbody>\n",
       "</table>\n",
       "<p>45654 rows × 3 columns</p>\n",
       "</div>"
      ],
      "text/plain": [
       "       pred  train  accuracy\n",
       "0       2.0    4.0     False\n",
       "1       1.0    4.0     False\n",
       "2       4.0    4.0      True\n",
       "3       3.0    4.0     False\n",
       "4       4.0    4.0      True\n",
       "...     ...    ...       ...\n",
       "45649   4.0    1.0     False\n",
       "45650   2.0    2.0      True\n",
       "45651   2.0    1.0     False\n",
       "45652   2.0    2.0      True\n",
       "45653   2.0    2.0      True\n",
       "\n",
       "[45654 rows x 3 columns]"
      ]
     },
     "execution_count": 53,
     "metadata": {},
     "output_type": "execute_result"
    }
   ],
   "source": [
    "df_accuracy"
   ]
  },
  {
   "cell_type": "markdown",
   "id": "53cc89c1",
   "metadata": {},
   "source": [
    "현재 정확도가 높지는 않지만 다음의 방법을 고려해 예측 비율을 높일 수 있다.\n",
    "* 전처리에서 불용어 리스트 추가\n",
    "* BOW, TF-IDF의 파라미터 변경\n",
    "* 분류기의 파라미터 변경\n",
    "* 분류기 변경"
   ]
  },
  {
   "cell_type": "markdown",
   "id": "87a4c666",
   "metadata": {},
   "source": [
    "학습"
   ]
  },
  {
   "cell_type": "code",
   "execution_count": 54,
   "id": "2b2a9c94",
   "metadata": {},
   "outputs": [
    {
     "name": "stdout",
     "output_type": "stream",
     "text": [
      "Wall time: 18.5 s\n"
     ]
    },
    {
     "data": {
      "text/plain": [
       "RandomForestClassifier(n_jobs=-1, random_state=42)"
      ]
     },
     "execution_count": 54,
     "metadata": {},
     "output_type": "execute_result"
    }
   ],
   "source": [
    "%time model.fit(train_feature_tfidf, y_train)"
   ]
  },
  {
   "cell_type": "code",
   "execution_count": 55,
   "id": "ba2e5100",
   "metadata": {},
   "outputs": [
    {
     "data": {
      "text/plain": [
       "array([2., 3., 2., 2., 3.])"
      ]
     },
     "execution_count": 55,
     "metadata": {},
     "output_type": "execute_result"
    }
   ],
   "source": [
    "y_predict = model.predict(test_feature_tfidf)\n",
    "y_predict[:5]"
   ]
  },
  {
   "cell_type": "code",
   "execution_count": 56,
   "id": "ff5049bc",
   "metadata": {},
   "outputs": [
    {
     "data": {
      "text/html": [
       "<div>\n",
       "<style scoped>\n",
       "    .dataframe tbody tr th:only-of-type {\n",
       "        vertical-align: middle;\n",
       "    }\n",
       "\n",
       "    .dataframe tbody tr th {\n",
       "        vertical-align: top;\n",
       "    }\n",
       "\n",
       "    .dataframe thead th {\n",
       "        text-align: right;\n",
       "    }\n",
       "</style>\n",
       "<table border=\"1\" class=\"dataframe\">\n",
       "  <thead>\n",
       "    <tr style=\"text-align: right;\">\n",
       "      <th></th>\n",
       "      <th>index</th>\n",
       "      <th>topic_idx</th>\n",
       "    </tr>\n",
       "  </thead>\n",
       "  <tbody>\n",
       "    <tr>\n",
       "      <th>0</th>\n",
       "      <td>45654</td>\n",
       "      <td>0</td>\n",
       "    </tr>\n",
       "    <tr>\n",
       "      <th>1</th>\n",
       "      <td>45655</td>\n",
       "      <td>0</td>\n",
       "    </tr>\n",
       "    <tr>\n",
       "      <th>2</th>\n",
       "      <td>45656</td>\n",
       "      <td>0</td>\n",
       "    </tr>\n",
       "    <tr>\n",
       "      <th>3</th>\n",
       "      <td>45657</td>\n",
       "      <td>0</td>\n",
       "    </tr>\n",
       "    <tr>\n",
       "      <th>4</th>\n",
       "      <td>45658</td>\n",
       "      <td>0</td>\n",
       "    </tr>\n",
       "  </tbody>\n",
       "</table>\n",
       "</div>"
      ],
      "text/plain": [
       "   index  topic_idx\n",
       "0  45654          0\n",
       "1  45655          0\n",
       "2  45656          0\n",
       "3  45657          0\n",
       "4  45658          0"
      ]
     },
     "execution_count": 56,
     "metadata": {},
     "output_type": "execute_result"
    }
   ],
   "source": [
    "submit = pd.read_csv(\"E:/Kaggle/Data/klue/sample_submission.csv\")\n",
    "submit.head()"
   ]
  },
  {
   "cell_type": "code",
   "execution_count": 57,
   "id": "1cbbb367",
   "metadata": {},
   "outputs": [],
   "source": [
    "submit[\"topic_idx\"] = y_predict"
   ]
  },
  {
   "cell_type": "code",
   "execution_count": 59,
   "id": "ad3fd5fd",
   "metadata": {},
   "outputs": [],
   "source": [
    "import os \n",
    "\n",
    "base_path = \"E:/Kaggle/Data/klue\"\n",
    "file_name = os.path.join(base_path, f\"submit_{valid_accuracy}.csv\")\n",
    "submit.to_csv(file_name, index = False)"
   ]
  },
  {
   "cell_type": "code",
   "execution_count": 62,
   "id": "4df1abb2",
   "metadata": {},
   "outputs": [
    {
     "data": {
      "text/plain": [
       "'E:/Kaggle/Data/klue\\\\submit_0.7384676041529767.csv'"
      ]
     },
     "execution_count": 62,
     "metadata": {},
     "output_type": "execute_result"
    }
   ],
   "source": [
    "file_name"
   ]
  }
 ],
 "metadata": {
  "kernelspec": {
   "display_name": "Python 3",
   "language": "python",
   "name": "python3"
  },
  "language_info": {
   "codemirror_mode": {
    "name": "ipython",
    "version": 3
   },
   "file_extension": ".py",
   "mimetype": "text/x-python",
   "name": "python",
   "nbconvert_exporter": "python",
   "pygments_lexer": "ipython3",
   "version": "3.7.10"
  }
 },
 "nbformat": 4,
 "nbformat_minor": 5
}
